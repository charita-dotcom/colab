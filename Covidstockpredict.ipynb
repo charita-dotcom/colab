{
  "nbformat": 4,
  "nbformat_minor": 0,
  "metadata": {
    "colab": {
      "provenance": [],
      "authorship_tag": "ABX9TyO4WkkW6pdwWW0EliUAev8n",
      "include_colab_link": true
    },
    "kernelspec": {
      "name": "python3",
      "display_name": "Python 3"
    },
    "language_info": {
      "name": "python"
    }
  },
  "cells": [
    {
      "cell_type": "markdown",
      "metadata": {
        "id": "view-in-github",
        "colab_type": "text"
      },
      "source": [
        "<a href=\"https://colab.research.google.com/github/charita-dotcom/colab/blob/main/Covidstockpredict.ipynb\" target=\"_parent\"><img src=\"https://colab.research.google.com/assets/colab-badge.svg\" alt=\"Open In Colab\"/></a>"
      ]
    },
    {
      "cell_type": "code",
      "metadata": {
        "colab": {
          "base_uri": "https://localhost:8080/"
        },
        "id": "TDpknS0TVB42",
        "outputId": "aa7ff088-3fad-4a33-a666-9d11490e679c"
      },
      "source": [
        "pip install OpenBlender"
      ],
      "execution_count": null,
      "outputs": [
        {
          "output_type": "stream",
          "text": [
            "Collecting OpenBlender\n",
            "  Downloading https://files.pythonhosted.org/packages/c8/1a/1b656b0efa4ee5bf7736f6b2e3495efdbb152a0c1e28f1ba1705b2670c40/OpenBlender-2.9.tar.gz\n",
            "Requirement already satisfied: numpy in /usr/local/lib/python3.7/dist-packages (from OpenBlender) (1.19.5)\n",
            "Requirement already satisfied: pandas in /usr/local/lib/python3.7/dist-packages (from OpenBlender) (1.1.5)\n",
            "Collecting datetime\n",
            "\u001b[?25l  Downloading https://files.pythonhosted.org/packages/73/22/a5297f3a1f92468cc737f8ce7ba6e5f245fcfafeae810ba37bd1039ea01c/DateTime-4.3-py2.py3-none-any.whl (60kB)\n",
            "\u001b[K     |████████████████████████████████| 61kB 2.2MB/s \n",
            "\u001b[?25hRequirement already satisfied: requests in /usr/local/lib/python3.7/dist-packages (from OpenBlender) (2.23.0)\n",
            "Requirement already satisfied: pytz>=2017.2 in /usr/local/lib/python3.7/dist-packages (from pandas->OpenBlender) (2018.9)\n",
            "Requirement already satisfied: python-dateutil>=2.7.3 in /usr/local/lib/python3.7/dist-packages (from pandas->OpenBlender) (2.8.1)\n",
            "Collecting zope.interface\n",
            "\u001b[?25l  Downloading https://files.pythonhosted.org/packages/bb/a7/94e1a92c71436f934cdd2102826fa041c83dcb7d21dd0f1fb1a57f6e0620/zope.interface-5.4.0-cp37-cp37m-manylinux2010_x86_64.whl (251kB)\n",
            "\u001b[K     |████████████████████████████████| 256kB 5.6MB/s \n",
            "\u001b[?25hRequirement already satisfied: idna<3,>=2.5 in /usr/local/lib/python3.7/dist-packages (from requests->OpenBlender) (2.10)\n",
            "Requirement already satisfied: urllib3!=1.25.0,!=1.25.1,<1.26,>=1.21.1 in /usr/local/lib/python3.7/dist-packages (from requests->OpenBlender) (1.24.3)\n",
            "Requirement already satisfied: certifi>=2017.4.17 in /usr/local/lib/python3.7/dist-packages (from requests->OpenBlender) (2020.12.5)\n",
            "Requirement already satisfied: chardet<4,>=3.0.2 in /usr/local/lib/python3.7/dist-packages (from requests->OpenBlender) (3.0.4)\n",
            "Requirement already satisfied: six>=1.5 in /usr/local/lib/python3.7/dist-packages (from python-dateutil>=2.7.3->pandas->OpenBlender) (1.15.0)\n",
            "Requirement already satisfied: setuptools in /usr/local/lib/python3.7/dist-packages (from zope.interface->datetime->OpenBlender) (57.0.0)\n",
            "Building wheels for collected packages: OpenBlender\n",
            "  Building wheel for OpenBlender (setup.py) ... \u001b[?25l\u001b[?25hdone\n",
            "  Created wheel for OpenBlender: filename=OpenBlender-2.9-cp37-none-any.whl size=6563 sha256=5f97b8dc81843a3968c33176512271eab2175a1b6a04cbdc1ec2a4cd12505747\n",
            "  Stored in directory: /root/.cache/pip/wheels/f6/34/de/fd9cf58fca4c0530f1e9b313b5638ab3d28a66f3080a55946e\n",
            "Successfully built OpenBlender\n",
            "Installing collected packages: zope.interface, datetime, OpenBlender\n",
            "Successfully installed OpenBlender-2.9 datetime-4.3 zope.interface-5.4.0\n"
          ],
          "name": "stdout"
        }
      ]
    },
    {
      "cell_type": "code",
      "metadata": {
        "id": "IrDXEx5wVfNx"
      },
      "source": [
        "from sklearn.ensemble import RandomForestRegressor\n",
        "from sklearn.metrics import accuracy_score\n",
        "from sklearn.metrics import roc_auc_score\n",
        "from sklearn import metrics\n",
        "import pandas as pd\n",
        "import OpenBlender\n",
        "import json\n",
        "%matplotlib inline"
      ],
      "execution_count": null,
      "outputs": []
    },
    {
      "cell_type": "code",
      "metadata": {
        "colab": {
          "base_uri": "https://localhost:8080/"
        },
        "id": "J5BgiUxzVibL",
        "outputId": "5b2b8d5e-5631-4113-849c-25a3b6b00563"
      },
      "source": [
        "action = 'API_getObservationsFromDataset'\n",
        "token = '6034b0b99516293b2e838b43TF1IXHfucew4PZ8OQ6eEKsSrZSB4Wq'\n",
        "parameters = {\n",
        "      'token' : token,\n",
        "      'id_dataset':'5d4c39d09516290b01c8307b',\n",
        "      'consumption_confirmation' : 'on',\n",
        "      'date_filter':{\"start_date\":\"1980-12-12T06:00:00.000Z\",\n",
        "                     \"end_date\":\"2020-03-29T06:00:00.000Z\"}\n",
        "}\n",
        "df = pd.read_json(json.dumps(OpenBlender.call(action, parameters)['sample']), convert_dates=False, convert_axes=False).sort_values('timestamp', ascending=False)\n",
        "df.reset_index(drop=True, inplace=True)"
      ],
      "execution_count": null,
      "outputs": [
        {
          "output_type": "stream",
          "text": [
            "Task ID: '60be4c520895fafb4a9d8d4b'.\n",
            "Total estimated consumption: 500.17 processing units.\n",
            "Continue?  [y] yes \t [n] noy\n",
            "Task confirmed. Starting download..\n",
            "33.33 %\n",
            "66.67 %\n",
            "100.0 % completed.\n"
          ],
          "name": "stdout"
        }
      ]
    },
    {
      "cell_type": "code",
      "metadata": {
        "colab": {
          "base_uri": "https://localhost:8080/",
          "height": 205
        },
        "id": "-rFO6a_rWmRx",
        "outputId": "cf1f652b-c689-4313-c933-edc91adbd222"
      },
      "source": [
        "df.head()"
      ],
      "execution_count": null,
      "outputs": [
        {
          "output_type": "execute_result",
          "data": {
            "text/html": [
              "<div>\n",
              "<style scoped>\n",
              "    .dataframe tbody tr th:only-of-type {\n",
              "        vertical-align: middle;\n",
              "    }\n",
              "\n",
              "    .dataframe tbody tr th {\n",
              "        vertical-align: top;\n",
              "    }\n",
              "\n",
              "    .dataframe thead th {\n",
              "        text-align: right;\n",
              "    }\n",
              "</style>\n",
              "<table border=\"1\" class=\"dataframe\">\n",
              "  <thead>\n",
              "    <tr style=\"text-align: right;\">\n",
              "      <th></th>\n",
              "      <th>volume</th>\n",
              "      <th>timestamp</th>\n",
              "      <th>price</th>\n",
              "      <th>high</th>\n",
              "      <th>low</th>\n",
              "      <th>open</th>\n",
              "      <th>change</th>\n",
              "    </tr>\n",
              "  </thead>\n",
              "  <tbody>\n",
              "    <tr>\n",
              "      <th>0</th>\n",
              "      <td>51.05M</td>\n",
              "      <td>1.585328e+09</td>\n",
              "      <td>247.74</td>\n",
              "      <td>255.85</td>\n",
              "      <td>247.21</td>\n",
              "      <td>252.14</td>\n",
              "      <td>-4.14%</td>\n",
              "    </tr>\n",
              "    <tr>\n",
              "      <th>1</th>\n",
              "      <td>75.90M</td>\n",
              "      <td>1.585240e+09</td>\n",
              "      <td>245.52</td>\n",
              "      <td>257.94</td>\n",
              "      <td>244.33</td>\n",
              "      <td>250.80</td>\n",
              "      <td>-0.55%</td>\n",
              "    </tr>\n",
              "    <tr>\n",
              "      <th>2</th>\n",
              "      <td>75.90M</td>\n",
              "      <td>1.585217e+09</td>\n",
              "      <td>245.52</td>\n",
              "      <td>257.94</td>\n",
              "      <td>244.33</td>\n",
              "      <td>250.80</td>\n",
              "      <td>-0.55%</td>\n",
              "    </tr>\n",
              "    <tr>\n",
              "      <th>3</th>\n",
              "      <td>75.90M</td>\n",
              "      <td>1.585196e+09</td>\n",
              "      <td>245.52</td>\n",
              "      <td>257.94</td>\n",
              "      <td>244.33</td>\n",
              "      <td>250.80</td>\n",
              "      <td>-0.55%</td>\n",
              "    </tr>\n",
              "    <tr>\n",
              "      <th>4</th>\n",
              "      <td>71.88M</td>\n",
              "      <td>1.585174e+09</td>\n",
              "      <td>246.88</td>\n",
              "      <td>246.88</td>\n",
              "      <td>234.42</td>\n",
              "      <td>237.00</td>\n",
              "      <td>10.03%</td>\n",
              "    </tr>\n",
              "  </tbody>\n",
              "</table>\n",
              "</div>"
            ],
            "text/plain": [
              "   volume     timestamp   price    high     low    open  change\n",
              "0  51.05M  1.585328e+09  247.74  255.85  247.21  252.14  -4.14%\n",
              "1  75.90M  1.585240e+09  245.52  257.94  244.33  250.80  -0.55%\n",
              "2  75.90M  1.585217e+09  245.52  257.94  244.33  250.80  -0.55%\n",
              "3  75.90M  1.585196e+09  245.52  257.94  244.33  250.80  -0.55%\n",
              "4  71.88M  1.585174e+09  246.88  246.88  234.42  237.00  10.03%"
            ]
          },
          "metadata": {
            "tags": []
          },
          "execution_count": 6
        }
      ]
    },
    {
      "cell_type": "code",
      "metadata": {
        "colab": {
          "base_uri": "https://localhost:8080/"
        },
        "id": "AeBzm-j3WqrT",
        "outputId": "4720ab0a-67fe-4daa-8fb9-4d5aa89e15b8"
      },
      "source": [
        "action = 'API_createTextVectorizerPlus'\n",
        "parameters = {\n",
        "    'token' : token,\n",
        "    'name' : 'Wall Street and USA Today Vectorizer',\n",
        "    'sources':[\n",
        "              {'id_dataset':\"5e2ef74e9516294390e810a9\",\n",
        "               'features' : [\"text\"]},\n",
        "              {'id_dataset' : \"5e32fd289516291e346c1726\",\n",
        "               'features' : [\"text\"]}\n",
        "    ],\n",
        "    'ngram_range' : {'min' : 1, 'max' : 2},\n",
        "    'language' : 'en',\n",
        "    'remove_stop_words' : 'on',\n",
        "    'min_count_limit' : 2\n",
        "}\n",
        "response = OpenBlender.call(action, parameters)\n",
        "response"
      ],
      "execution_count": null,
      "outputs": [
        {
          "output_type": "execute_result",
          "data": {
            "text/plain": [
              "{'id_textVectorizer': '60be4c9d95162975acd814db',\n",
              " 'num_ngrams': 4999,\n",
              " 'response': 'Text Vectorizer created successfully.',\n",
              " 'status': 'success'}"
            ]
          },
          "metadata": {
            "tags": []
          },
          "execution_count": 7
        }
      ]
    },
    {
      "cell_type": "code",
      "metadata": {
        "colab": {
          "base_uri": "https://localhost:8080/"
        },
        "id": "-DeUFfiYW_Kj",
        "outputId": "6199ccc9-54d7-4782-fbef-de5228933e28"
      },
      "source": [
        "action = 'API_getObservationsFromDataset'\n",
        "interval = 60 * 60 * 24 # One day\n",
        "parameters = {\n",
        "      'token' : token,\n",
        "      'id_dataset':'5d4c39d09516290b01c8307b',\n",
        "      'date_filter':{\"start_date\":\"2017-01-01T06:00:00.000Z\",\n",
        "                     \"end_date\":\"2020-03-29T06:00:00.000Z\"},\n",
        "      'aggregate_in_time_interval' : {\n",
        "              'time_interval_size' : interval,\n",
        "              'output' : 'avg',\n",
        "              'empty_intervals' : 'impute'\n",
        "      },\n",
        "      'blends' :\n",
        "       [{\"id_blend\" : \"5e46c8cf9516297ce1ada712\",\n",
        "         \"blend_class\" : \"closest_observation\",\n",
        "         \"restriction\":\"None\",\n",
        "         \"blend_type\":\"text_ts\",\n",
        "         \"specifications\":{\"time_interval_size\" : interval}\n",
        "       }],\n",
        "       'lag_feature' : {'feature' : 'change', 'periods' : [-1]}\n",
        "}\n",
        "df = pd.read_json(json.dumps(OpenBlender.call(action, parameters)['sample']), convert_dates=False, convert_axes=False).sort_values('timestamp', ascending=False)\n",
        "df.reset_index(drop=True, inplace=True)"
      ],
      "execution_count": null,
      "outputs": [
        {
          "output_type": "stream",
          "text": [
            "Task ID: '60be4cde0895fafb4a9d8d4b'.\n",
            "Total estimated consumption: 5108.57 processing units.\n",
            "Task confirmed. Starting download..\n",
            "3.33 %\n",
            "6.67 %\n",
            "10.0 %\n",
            "13.33 %\n",
            "16.67 %\n",
            "20.0 %\n",
            "23.33 %\n",
            "26.67 %\n",
            "30.0 %\n",
            "33.33 %\n",
            "36.67 %\n",
            "40.0 %\n",
            "43.33 %\n",
            "46.67 %\n",
            "50.0 %\n",
            "53.33 %\n",
            "56.67 %\n",
            "60.0 %\n",
            "63.33 %\n",
            "66.67 %\n",
            "70.0 %\n",
            "73.33 %\n",
            "76.67 %\n",
            "80.0 %\n",
            "83.33 %\n",
            "86.67 %\n",
            "90.0 %\n",
            "93.33 %\n",
            "96.67 %\n",
            "100.0 % completed.\n"
          ],
          "name": "stdout"
        }
      ]
    },
    {
      "cell_type": "code",
      "metadata": {
        "colab": {
          "base_uri": "https://localhost:8080/",
          "height": 290
        },
        "id": "MS81iSgUaSMV",
        "outputId": "cc9e17f7-0d9f-47e8-a1a2-a8f1773fb23b"
      },
      "source": [
        "print(df.shape)\n",
        "df.head()"
      ],
      "execution_count": null,
      "outputs": [
        {
          "output_type": "stream",
          "text": [
            "(1173, 3879)\n"
          ],
          "name": "stdout"
        },
        {
          "output_type": "execute_result",
          "data": {
            "text/html": [
              "<div>\n",
              "<style scoped>\n",
              "    .dataframe tbody tr th:only-of-type {\n",
              "        vertical-align: middle;\n",
              "    }\n",
              "\n",
              "    .dataframe tbody tr th {\n",
              "        vertical-align: top;\n",
              "    }\n",
              "\n",
              "    .dataframe thead th {\n",
              "        text-align: right;\n",
              "    }\n",
              "</style>\n",
              "<table border=\"1\" class=\"dataframe\">\n",
              "  <thead>\n",
              "    <tr style=\"text-align: right;\">\n",
              "      <th></th>\n",
              "      <th>5e46c8cf9516297ce1ada712_votes</th>\n",
              "      <th>5e46c8cf9516297ce1ada712_support</th>\n",
              "      <th>5e46c8cf9516297ce1ada712_treating</th>\n",
              "      <th>5e46c8cf9516297ce1ada712_gen</th>\n",
              "      <th>5e46c8cf9516297ce1ada712_international</th>\n",
              "      <th>5e46c8cf9516297ce1ada712_link</th>\n",
              "      <th>5e46c8cf9516297ce1ada712_voter</th>\n",
              "      <th>5e46c8cf9516297ce1ada712_matt</th>\n",
              "      <th>5e46c8cf9516297ce1ada712_fun</th>\n",
              "      <th>5e46c8cf9516297ce1ada712_300</th>\n",
              "      <th>5e46c8cf9516297ce1ada712_nsa</th>\n",
              "      <th>5e46c8cf9516297ce1ada712_harder</th>\n",
              "      <th>5e46c8cf9516297ce1ada712_islands</th>\n",
              "      <th>5e46c8cf9516297ce1ada712_shape</th>\n",
              "      <th>5e46c8cf9516297ce1ada712_live chat</th>\n",
              "      <th>5e46c8cf9516297ce1ada712_spending</th>\n",
              "      <th>5e46c8cf9516297ce1ada712_missing</th>\n",
              "      <th>5e46c8cf9516297ce1ada712_clear</th>\n",
              "      <th>5e46c8cf9516297ce1ada712_east</th>\n",
              "      <th>5e46c8cf9516297ce1ada712_235</th>\n",
              "      <th>5e46c8cf9516297ce1ada712_europes</th>\n",
              "      <th>5e46c8cf9516297ce1ada712_ben</th>\n",
              "      <th>5e46c8cf9516297ce1ada712_robots</th>\n",
              "      <th>5e46c8cf9516297ce1ada712_billion year</th>\n",
              "      <th>5e46c8cf9516297ce1ada712_wanted</th>\n",
              "      <th>5e46c8cf9516297ce1ada712_harvard</th>\n",
              "      <th>5e46c8cf9516297ce1ada712_target</th>\n",
              "      <th>5e46c8cf9516297ce1ada712_bet</th>\n",
              "      <th>5e46c8cf9516297ce1ada712_progressive</th>\n",
              "      <th>5e46c8cf9516297ce1ada712_december</th>\n",
              "      <th>5e46c8cf9516297ce1ada712_paypal</th>\n",
              "      <th>5e46c8cf9516297ce1ada712_andrew</th>\n",
              "      <th>5e46c8cf9516297ce1ada712_clean</th>\n",
              "      <th>5e46c8cf9516297ce1ada712_report</th>\n",
              "      <th>5e46c8cf9516297ce1ada712_momsintech</th>\n",
              "      <th>5e46c8cf9516297ce1ada712_medicine</th>\n",
              "      <th>5e46c8cf9516297ce1ada712_presidential elections</th>\n",
              "      <th>5e46c8cf9516297ce1ada712_787</th>\n",
              "      <th>5e46c8cf9516297ce1ada712_diversity</th>\n",
              "      <th>5e46c8cf9516297ce1ada712_longtime</th>\n",
              "      <th>...</th>\n",
              "      <th>5e46c8cf9516297ce1ada712_designer</th>\n",
              "      <th>5e46c8cf9516297ce1ada712_jewelry</th>\n",
              "      <th>5e46c8cf9516297ce1ada712_expand</th>\n",
              "      <th>5e46c8cf9516297ce1ada712_speaker</th>\n",
              "      <th>5e46c8cf9516297ce1ada712_singapore</th>\n",
              "      <th>5e46c8cf9516297ce1ada712_tough</th>\n",
              "      <th>5e46c8cf9516297ce1ada712_designed</th>\n",
              "      <th>5e46c8cf9516297ce1ada712_shareholder</th>\n",
              "      <th>5e46c8cf9516297ce1ada712_slows</th>\n",
              "      <th>5e46c8cf9516297ce1ada712_electrical</th>\n",
              "      <th>5e46c8cf9516297ce1ada712_hits</th>\n",
              "      <th>5e46c8cf9516297ce1ada712_episode</th>\n",
              "      <th>5e46c8cf9516297ce1ada712_expanding</th>\n",
              "      <th>5e46c8cf9516297ce1ada712_runners</th>\n",
              "      <th>5e46c8cf9516297ce1ada712_homeland kill</th>\n",
              "      <th>5e46c8cf9516297ce1ada712_ncaa</th>\n",
              "      <th>5e46c8cf9516297ce1ada712_scored</th>\n",
              "      <th>5e46c8cf9516297ce1ada712_view</th>\n",
              "      <th>5e46c8cf9516297ce1ada712_buying</th>\n",
              "      <th>5e46c8cf9516297ce1ada712_control</th>\n",
              "      <th>5e46c8cf9516297ce1ada712_newtown</th>\n",
              "      <th>5e46c8cf9516297ce1ada712_license</th>\n",
              "      <th>5e46c8cf9516297ce1ada712_44</th>\n",
              "      <th>5e46c8cf9516297ce1ada712_earthquake</th>\n",
              "      <th>5e46c8cf9516297ce1ada712_resign</th>\n",
              "      <th>5e46c8cf9516297ce1ada712_painting</th>\n",
              "      <th>5e46c8cf9516297ce1ada712_45</th>\n",
              "      <th>5e46c8cf9516297ce1ada712_promote</th>\n",
              "      <th>5e46c8cf9516297ce1ada712_tech columnist</th>\n",
              "      <th>5e46c8cf9516297ce1ada712_banking</th>\n",
              "      <th>5e46c8cf9516297ce1ada712_nfl teams</th>\n",
              "      <th>5e46c8cf9516297ce1ada712_egypts</th>\n",
              "      <th>5e46c8cf9516297ce1ada712_india</th>\n",
              "      <th>5e46c8cf9516297ce1ada712_prospect</th>\n",
              "      <th>5e46c8cf9516297ce1ada712_gaza</th>\n",
              "      <th>5e46c8cf9516297ce1ada712_urban</th>\n",
              "      <th>5e46c8cf9516297ce1ada712_fourth quarter</th>\n",
              "      <th>5e46c8cf9516297ce1ada712_cave</th>\n",
              "      <th>5e46c8cf9516297ce1ada712_brett</th>\n",
              "      <th>lag-1_change</th>\n",
              "    </tr>\n",
              "  </thead>\n",
              "  <tbody>\n",
              "    <tr>\n",
              "      <th>0</th>\n",
              "      <td>0</td>\n",
              "      <td>0</td>\n",
              "      <td>24</td>\n",
              "      <td>20</td>\n",
              "      <td>0</td>\n",
              "      <td>0</td>\n",
              "      <td>0</td>\n",
              "      <td>0</td>\n",
              "      <td>0</td>\n",
              "      <td>0</td>\n",
              "      <td>0</td>\n",
              "      <td>0</td>\n",
              "      <td>0</td>\n",
              "      <td>0</td>\n",
              "      <td>0</td>\n",
              "      <td>0</td>\n",
              "      <td>0</td>\n",
              "      <td>21</td>\n",
              "      <td>0</td>\n",
              "      <td>0</td>\n",
              "      <td>0</td>\n",
              "      <td>0</td>\n",
              "      <td>0</td>\n",
              "      <td>0</td>\n",
              "      <td>0</td>\n",
              "      <td>0</td>\n",
              "      <td>0</td>\n",
              "      <td>0</td>\n",
              "      <td>0</td>\n",
              "      <td>0</td>\n",
              "      <td>0</td>\n",
              "      <td>0</td>\n",
              "      <td>12</td>\n",
              "      <td>0</td>\n",
              "      <td>0</td>\n",
              "      <td>0</td>\n",
              "      <td>0</td>\n",
              "      <td>0</td>\n",
              "      <td>0</td>\n",
              "      <td>0</td>\n",
              "      <td>...</td>\n",
              "      <td>0</td>\n",
              "      <td>0</td>\n",
              "      <td>0</td>\n",
              "      <td>0</td>\n",
              "      <td>0</td>\n",
              "      <td>0</td>\n",
              "      <td>0</td>\n",
              "      <td>0</td>\n",
              "      <td>0</td>\n",
              "      <td>0</td>\n",
              "      <td>0</td>\n",
              "      <td>0</td>\n",
              "      <td>0</td>\n",
              "      <td>0</td>\n",
              "      <td>0</td>\n",
              "      <td>0</td>\n",
              "      <td>0</td>\n",
              "      <td>0</td>\n",
              "      <td>0</td>\n",
              "      <td>28</td>\n",
              "      <td>0</td>\n",
              "      <td>0</td>\n",
              "      <td>0</td>\n",
              "      <td>0</td>\n",
              "      <td>0</td>\n",
              "      <td>0</td>\n",
              "      <td>0</td>\n",
              "      <td>0</td>\n",
              "      <td>0</td>\n",
              "      <td>0</td>\n",
              "      <td>0</td>\n",
              "      <td>0</td>\n",
              "      <td>0</td>\n",
              "      <td>0</td>\n",
              "      <td>0</td>\n",
              "      <td>0</td>\n",
              "      <td>0</td>\n",
              "      <td>0</td>\n",
              "      <td>0</td>\n",
              "      <td>NaN</td>\n",
              "    </tr>\n",
              "    <tr>\n",
              "      <th>1</th>\n",
              "      <td>0</td>\n",
              "      <td>36</td>\n",
              "      <td>0</td>\n",
              "      <td>0</td>\n",
              "      <td>0</td>\n",
              "      <td>0</td>\n",
              "      <td>0</td>\n",
              "      <td>0</td>\n",
              "      <td>0</td>\n",
              "      <td>0</td>\n",
              "      <td>0</td>\n",
              "      <td>0</td>\n",
              "      <td>0</td>\n",
              "      <td>8</td>\n",
              "      <td>0</td>\n",
              "      <td>0</td>\n",
              "      <td>4</td>\n",
              "      <td>0</td>\n",
              "      <td>0</td>\n",
              "      <td>0</td>\n",
              "      <td>0</td>\n",
              "      <td>0</td>\n",
              "      <td>0</td>\n",
              "      <td>0</td>\n",
              "      <td>0</td>\n",
              "      <td>10</td>\n",
              "      <td>0</td>\n",
              "      <td>0</td>\n",
              "      <td>0</td>\n",
              "      <td>0</td>\n",
              "      <td>0</td>\n",
              "      <td>6</td>\n",
              "      <td>0</td>\n",
              "      <td>0</td>\n",
              "      <td>0</td>\n",
              "      <td>13</td>\n",
              "      <td>0</td>\n",
              "      <td>0</td>\n",
              "      <td>0</td>\n",
              "      <td>0</td>\n",
              "      <td>...</td>\n",
              "      <td>0</td>\n",
              "      <td>0</td>\n",
              "      <td>0</td>\n",
              "      <td>0</td>\n",
              "      <td>6</td>\n",
              "      <td>0</td>\n",
              "      <td>0</td>\n",
              "      <td>0</td>\n",
              "      <td>0</td>\n",
              "      <td>0</td>\n",
              "      <td>0</td>\n",
              "      <td>2</td>\n",
              "      <td>4</td>\n",
              "      <td>0</td>\n",
              "      <td>0</td>\n",
              "      <td>0</td>\n",
              "      <td>0</td>\n",
              "      <td>8</td>\n",
              "      <td>15</td>\n",
              "      <td>0</td>\n",
              "      <td>0</td>\n",
              "      <td>0</td>\n",
              "      <td>0</td>\n",
              "      <td>0</td>\n",
              "      <td>0</td>\n",
              "      <td>0</td>\n",
              "      <td>0</td>\n",
              "      <td>0</td>\n",
              "      <td>0</td>\n",
              "      <td>0</td>\n",
              "      <td>0</td>\n",
              "      <td>0</td>\n",
              "      <td>0</td>\n",
              "      <td>0</td>\n",
              "      <td>0</td>\n",
              "      <td>0</td>\n",
              "      <td>0</td>\n",
              "      <td>0</td>\n",
              "      <td>0</td>\n",
              "      <td>-4.14</td>\n",
              "    </tr>\n",
              "    <tr>\n",
              "      <th>2</th>\n",
              "      <td>0</td>\n",
              "      <td>9</td>\n",
              "      <td>0</td>\n",
              "      <td>0</td>\n",
              "      <td>0</td>\n",
              "      <td>0</td>\n",
              "      <td>0</td>\n",
              "      <td>0</td>\n",
              "      <td>0</td>\n",
              "      <td>0</td>\n",
              "      <td>0</td>\n",
              "      <td>0</td>\n",
              "      <td>0</td>\n",
              "      <td>0</td>\n",
              "      <td>0</td>\n",
              "      <td>0</td>\n",
              "      <td>6</td>\n",
              "      <td>8</td>\n",
              "      <td>0</td>\n",
              "      <td>0</td>\n",
              "      <td>0</td>\n",
              "      <td>0</td>\n",
              "      <td>0</td>\n",
              "      <td>0</td>\n",
              "      <td>22</td>\n",
              "      <td>0</td>\n",
              "      <td>0</td>\n",
              "      <td>0</td>\n",
              "      <td>0</td>\n",
              "      <td>0</td>\n",
              "      <td>0</td>\n",
              "      <td>0</td>\n",
              "      <td>0</td>\n",
              "      <td>0</td>\n",
              "      <td>0</td>\n",
              "      <td>0</td>\n",
              "      <td>0</td>\n",
              "      <td>0</td>\n",
              "      <td>0</td>\n",
              "      <td>0</td>\n",
              "      <td>...</td>\n",
              "      <td>0</td>\n",
              "      <td>0</td>\n",
              "      <td>8</td>\n",
              "      <td>2</td>\n",
              "      <td>0</td>\n",
              "      <td>7</td>\n",
              "      <td>0</td>\n",
              "      <td>0</td>\n",
              "      <td>0</td>\n",
              "      <td>0</td>\n",
              "      <td>0</td>\n",
              "      <td>0</td>\n",
              "      <td>0</td>\n",
              "      <td>0</td>\n",
              "      <td>0</td>\n",
              "      <td>0</td>\n",
              "      <td>0</td>\n",
              "      <td>0</td>\n",
              "      <td>7</td>\n",
              "      <td>0</td>\n",
              "      <td>0</td>\n",
              "      <td>0</td>\n",
              "      <td>0</td>\n",
              "      <td>0</td>\n",
              "      <td>0</td>\n",
              "      <td>0</td>\n",
              "      <td>0</td>\n",
              "      <td>0</td>\n",
              "      <td>0</td>\n",
              "      <td>0</td>\n",
              "      <td>0</td>\n",
              "      <td>0</td>\n",
              "      <td>0</td>\n",
              "      <td>0</td>\n",
              "      <td>0</td>\n",
              "      <td>0</td>\n",
              "      <td>0</td>\n",
              "      <td>0</td>\n",
              "      <td>0</td>\n",
              "      <td>-4.14</td>\n",
              "    </tr>\n",
              "    <tr>\n",
              "      <th>3</th>\n",
              "      <td>0</td>\n",
              "      <td>0</td>\n",
              "      <td>0</td>\n",
              "      <td>0</td>\n",
              "      <td>3</td>\n",
              "      <td>0</td>\n",
              "      <td>0</td>\n",
              "      <td>0</td>\n",
              "      <td>0</td>\n",
              "      <td>0</td>\n",
              "      <td>0</td>\n",
              "      <td>0</td>\n",
              "      <td>0</td>\n",
              "      <td>0</td>\n",
              "      <td>0</td>\n",
              "      <td>0</td>\n",
              "      <td>0</td>\n",
              "      <td>6</td>\n",
              "      <td>0</td>\n",
              "      <td>0</td>\n",
              "      <td>0</td>\n",
              "      <td>0</td>\n",
              "      <td>0</td>\n",
              "      <td>0</td>\n",
              "      <td>0</td>\n",
              "      <td>0</td>\n",
              "      <td>0</td>\n",
              "      <td>0</td>\n",
              "      <td>0</td>\n",
              "      <td>0</td>\n",
              "      <td>0</td>\n",
              "      <td>2</td>\n",
              "      <td>0</td>\n",
              "      <td>0</td>\n",
              "      <td>0</td>\n",
              "      <td>0</td>\n",
              "      <td>0</td>\n",
              "      <td>0</td>\n",
              "      <td>0</td>\n",
              "      <td>0</td>\n",
              "      <td>...</td>\n",
              "      <td>0</td>\n",
              "      <td>0</td>\n",
              "      <td>6</td>\n",
              "      <td>0</td>\n",
              "      <td>0</td>\n",
              "      <td>0</td>\n",
              "      <td>0</td>\n",
              "      <td>0</td>\n",
              "      <td>0</td>\n",
              "      <td>0</td>\n",
              "      <td>14</td>\n",
              "      <td>1</td>\n",
              "      <td>0</td>\n",
              "      <td>0</td>\n",
              "      <td>0</td>\n",
              "      <td>0</td>\n",
              "      <td>0</td>\n",
              "      <td>0</td>\n",
              "      <td>0</td>\n",
              "      <td>0</td>\n",
              "      <td>0</td>\n",
              "      <td>0</td>\n",
              "      <td>0</td>\n",
              "      <td>0</td>\n",
              "      <td>0</td>\n",
              "      <td>0</td>\n",
              "      <td>0</td>\n",
              "      <td>0</td>\n",
              "      <td>0</td>\n",
              "      <td>0</td>\n",
              "      <td>0</td>\n",
              "      <td>0</td>\n",
              "      <td>2</td>\n",
              "      <td>0</td>\n",
              "      <td>0</td>\n",
              "      <td>0</td>\n",
              "      <td>0</td>\n",
              "      <td>0</td>\n",
              "      <td>0</td>\n",
              "      <td>-0.55</td>\n",
              "    </tr>\n",
              "    <tr>\n",
              "      <th>4</th>\n",
              "      <td>0</td>\n",
              "      <td>0</td>\n",
              "      <td>0</td>\n",
              "      <td>0</td>\n",
              "      <td>0</td>\n",
              "      <td>0</td>\n",
              "      <td>0</td>\n",
              "      <td>0</td>\n",
              "      <td>0</td>\n",
              "      <td>0</td>\n",
              "      <td>0</td>\n",
              "      <td>0</td>\n",
              "      <td>0</td>\n",
              "      <td>0</td>\n",
              "      <td>0</td>\n",
              "      <td>3</td>\n",
              "      <td>0</td>\n",
              "      <td>0</td>\n",
              "      <td>0</td>\n",
              "      <td>0</td>\n",
              "      <td>0</td>\n",
              "      <td>0</td>\n",
              "      <td>0</td>\n",
              "      <td>0</td>\n",
              "      <td>0</td>\n",
              "      <td>0</td>\n",
              "      <td>0</td>\n",
              "      <td>0</td>\n",
              "      <td>0</td>\n",
              "      <td>0</td>\n",
              "      <td>0</td>\n",
              "      <td>0</td>\n",
              "      <td>0</td>\n",
              "      <td>0</td>\n",
              "      <td>0</td>\n",
              "      <td>2</td>\n",
              "      <td>0</td>\n",
              "      <td>0</td>\n",
              "      <td>0</td>\n",
              "      <td>18</td>\n",
              "      <td>...</td>\n",
              "      <td>0</td>\n",
              "      <td>0</td>\n",
              "      <td>0</td>\n",
              "      <td>0</td>\n",
              "      <td>0</td>\n",
              "      <td>0</td>\n",
              "      <td>0</td>\n",
              "      <td>0</td>\n",
              "      <td>0</td>\n",
              "      <td>0</td>\n",
              "      <td>0</td>\n",
              "      <td>0</td>\n",
              "      <td>0</td>\n",
              "      <td>0</td>\n",
              "      <td>0</td>\n",
              "      <td>0</td>\n",
              "      <td>0</td>\n",
              "      <td>0</td>\n",
              "      <td>7</td>\n",
              "      <td>2</td>\n",
              "      <td>0</td>\n",
              "      <td>0</td>\n",
              "      <td>0</td>\n",
              "      <td>0</td>\n",
              "      <td>0</td>\n",
              "      <td>0</td>\n",
              "      <td>0</td>\n",
              "      <td>0</td>\n",
              "      <td>0</td>\n",
              "      <td>1</td>\n",
              "      <td>0</td>\n",
              "      <td>0</td>\n",
              "      <td>0</td>\n",
              "      <td>0</td>\n",
              "      <td>0</td>\n",
              "      <td>0</td>\n",
              "      <td>0</td>\n",
              "      <td>0</td>\n",
              "      <td>0</td>\n",
              "      <td>10.03</td>\n",
              "    </tr>\n",
              "  </tbody>\n",
              "</table>\n",
              "<p>5 rows × 3879 columns</p>\n",
              "</div>"
            ],
            "text/plain": [
              "   5e46c8cf9516297ce1ada712_votes  ...  lag-1_change\n",
              "0                               0  ...           NaN\n",
              "1                               0  ...         -4.14\n",
              "2                               0  ...         -4.14\n",
              "3                               0  ...         -0.55\n",
              "4                               0  ...         10.03\n",
              "\n",
              "[5 rows x 3879 columns]"
            ]
          },
          "metadata": {
            "tags": []
          },
          "execution_count": 9
        }
      ]
    },
    {
      "cell_type": "code",
      "metadata": {
        "colab": {
          "base_uri": "https://localhost:8080/",
          "height": 205
        },
        "id": "Crwqlhj3aVi4",
        "outputId": "6826cdb0-1384-447d-c8e5-d8b9589e8458"
      },
      "source": [
        "df['negative_poc'] = [1 if val < 0.5 else 0 for val in df['lag-1_change']]\n",
        "df['positive_poc'] = [1 if val > 0.5 else 0 for val in df['lag-1_change']]\n",
        "df[['lag-1_change', 'positive_poc', 'negative_poc']].head()"
      ],
      "execution_count": null,
      "outputs": [
        {
          "output_type": "execute_result",
          "data": {
            "text/html": [
              "<div>\n",
              "<style scoped>\n",
              "    .dataframe tbody tr th:only-of-type {\n",
              "        vertical-align: middle;\n",
              "    }\n",
              "\n",
              "    .dataframe tbody tr th {\n",
              "        vertical-align: top;\n",
              "    }\n",
              "\n",
              "    .dataframe thead th {\n",
              "        text-align: right;\n",
              "    }\n",
              "</style>\n",
              "<table border=\"1\" class=\"dataframe\">\n",
              "  <thead>\n",
              "    <tr style=\"text-align: right;\">\n",
              "      <th></th>\n",
              "      <th>lag-1_change</th>\n",
              "      <th>positive_poc</th>\n",
              "      <th>negative_poc</th>\n",
              "    </tr>\n",
              "  </thead>\n",
              "  <tbody>\n",
              "    <tr>\n",
              "      <th>0</th>\n",
              "      <td>NaN</td>\n",
              "      <td>0</td>\n",
              "      <td>0</td>\n",
              "    </tr>\n",
              "    <tr>\n",
              "      <th>1</th>\n",
              "      <td>-4.14</td>\n",
              "      <td>0</td>\n",
              "      <td>1</td>\n",
              "    </tr>\n",
              "    <tr>\n",
              "      <th>2</th>\n",
              "      <td>-4.14</td>\n",
              "      <td>0</td>\n",
              "      <td>1</td>\n",
              "    </tr>\n",
              "    <tr>\n",
              "      <th>3</th>\n",
              "      <td>-0.55</td>\n",
              "      <td>0</td>\n",
              "      <td>1</td>\n",
              "    </tr>\n",
              "    <tr>\n",
              "      <th>4</th>\n",
              "      <td>10.03</td>\n",
              "      <td>1</td>\n",
              "      <td>0</td>\n",
              "    </tr>\n",
              "  </tbody>\n",
              "</table>\n",
              "</div>"
            ],
            "text/plain": [
              "   lag-1_change  positive_poc  negative_poc\n",
              "0           NaN             0             0\n",
              "1         -4.14             0             1\n",
              "2         -4.14             0             1\n",
              "3         -0.55             0             1\n",
              "4         10.03             1             0"
            ]
          },
          "metadata": {
            "tags": []
          },
          "execution_count": 10
        }
      ]
    },
    {
      "cell_type": "code",
      "metadata": {
        "id": "c48XKXOvabzJ"
      },
      "source": [
        "df_positive = df.select_dtypes(['number']).iloc[::-1]\n",
        "for rem in ['negative_poc']:\n",
        "    df_positive = df_positive.loc[:, df_positive.columns != rem]\n",
        "df_negative = df.select_dtypes(['number']).iloc[::-1]\n",
        "for rem in ['positive_poc']:\n",
        "    df_negative = df_negative.loc[:, df_negative.columns != rem]"
      ],
      "execution_count": null,
      "outputs": []
    },
    {
      "cell_type": "code",
      "metadata": {
        "id": "1ik_ePqKaftr"
      },
      "source": [
        "def getMetricsFromModel(target, df):\n",
        "    X = df.loc[:, df.columns != target]\n",
        "    X = X.loc[:, X.columns != 'lag-1_change'].values\n",
        "    y = df.loc[:,[target]].values\n",
        "\n",
        "\n",
        "    div = int(round(len(X) * 0.89))\n",
        "\n",
        "    real_values = df[div:].loc[:,['lag-1_change']].values\n",
        "\n",
        "    X_train = X[:div]\n",
        "    y_train = y[:div]\n",
        "    X_test = X[div:]\n",
        "    y_test = y[div:]\n",
        "\n",
        "    rf = RandomForestRegressor(n_estimators = 1000, random_state = 1)\n",
        "    rf.fit(X_train, y_train)\n",
        "    y_pred = rf.predict(X_test)\n",
        "\n",
        "\n",
        "    print(\"AUC score:\")\n",
        "    auc = roc_auc_score(y_test, y_pred)\n",
        "    print(auc)\n",
        "    print('---')\n",
        "    preds = [1 if val > 0.6 else 0 for val in y_pred]\n",
        "    print('Confusion Matrix:')\n",
        "    conf_matrix = metrics.confusion_matrix(y_test, preds)\n",
        "    print(metrics.confusion_matrix(y_test, preds))\n",
        "    print('---')\n",
        "\n",
        "    print('Acurracy:')\n",
        "    acc = accuracy_score(y_test, preds)\n",
        "    print(acc)\n",
        "    print('---')\n",
        "\n",
        "    df_compare = pd.DataFrame({'real_values' : real_values.ravel(), 'y_test' : y_test.ravel(), 'preds' : y_pred})\n",
        "\n",
        "    return auc, conf_matrix, acc, df_compare"
      ],
      "execution_count": null,
      "outputs": []
    },
    {
      "cell_type": "code",
      "metadata": {
        "colab": {
          "base_uri": "https://localhost:8080/"
        },
        "id": "vTa8c5Y0alEz",
        "outputId": "e13457c2-5011-4d5e-9e25-36de72e9fa92"
      },
      "source": [
        "df_compare_acc = None\n",
        "for i in range(0, df_positive.shape[0] - 450, 50):\n",
        "    print(i)\n",
        "    print(i + 450)\n",
        "    print('-')\n",
        "    auc, conf_matrix, acc, df_compare_p = getMetricsFromModel('positive_poc', df_positive[i : i + 450])\n",
        "    auc, conf_matrix, acc, df_compare_n = getMetricsFromModel('negative_poc', df_negative[i : i + 450])\n",
        "    df_compare = df_compare_p[['y_test', 'real_values']]\n",
        "    df_compare.rename(columns={'y_test':'price_rised_5'}, inplace=True)\n",
        "    df_compare['F_p'] = df_compare_p['preds']\n",
        "    df_compare['price_dropped_5'] = df_compare_n['y_test']\n",
        "    df_compare['F_n'] = df_compare_n['preds']\n",
        "    df_compare\n",
        "    if df_compare_acc is None:\n",
        "        df_compare_acc = df_compare\n",
        "    else:\n",
        "        df_compare_acc = pd.concat([df_compare_acc, df_compare], ignore_index=True)"
      ],
      "execution_count": null,
      "outputs": [
        {
          "output_type": "stream",
          "text": [
            "0\n",
            "450\n",
            "-\n"
          ],
          "name": "stdout"
        },
        {
          "output_type": "stream",
          "text": [
            "/usr/local/lib/python3.7/dist-packages/ipykernel_launcher.py:19: DataConversionWarning: A column-vector y was passed when a 1d array was expected. Please change the shape of y to (n_samples,), for example using ravel().\n"
          ],
          "name": "stderr"
        },
        {
          "output_type": "stream",
          "text": [
            "AUC score:\n",
            "0.8233333333333333\n",
            "---\n",
            "Confusion Matrix:\n",
            "[[29  1]\n",
            " [11  9]]\n",
            "---\n",
            "Acurracy:\n",
            "0.76\n",
            "---\n"
          ],
          "name": "stdout"
        },
        {
          "output_type": "stream",
          "text": [
            "/usr/local/lib/python3.7/dist-packages/ipykernel_launcher.py:19: DataConversionWarning: A column-vector y was passed when a 1d array was expected. Please change the shape of y to (n_samples,), for example using ravel().\n"
          ],
          "name": "stderr"
        },
        {
          "output_type": "stream",
          "text": [
            "AUC score:\n",
            "0.8091666666666667\n",
            "---\n",
            "Confusion Matrix:\n",
            "[[14  6]\n",
            " [ 2 28]]\n",
            "---\n",
            "Acurracy:\n",
            "0.84\n",
            "---\n",
            "50\n",
            "500\n",
            "-\n"
          ],
          "name": "stdout"
        },
        {
          "output_type": "stream",
          "text": [
            "/usr/local/lib/python3.7/dist-packages/pandas/core/frame.py:4308: SettingWithCopyWarning: \n",
            "A value is trying to be set on a copy of a slice from a DataFrame\n",
            "\n",
            "See the caveats in the documentation: https://pandas.pydata.org/pandas-docs/stable/user_guide/indexing.html#returning-a-view-versus-a-copy\n",
            "  errors=errors,\n",
            "/usr/local/lib/python3.7/dist-packages/ipykernel_launcher.py:19: DataConversionWarning: A column-vector y was passed when a 1d array was expected. Please change the shape of y to (n_samples,), for example using ravel().\n"
          ],
          "name": "stderr"
        },
        {
          "output_type": "stream",
          "text": [
            "AUC score:\n",
            "0.5683333333333332\n",
            "---\n",
            "Confusion Matrix:\n",
            "[[28  2]\n",
            " [17  3]]\n",
            "---\n",
            "Acurracy:\n",
            "0.62\n",
            "---\n"
          ],
          "name": "stdout"
        },
        {
          "output_type": "stream",
          "text": [
            "/usr/local/lib/python3.7/dist-packages/ipykernel_launcher.py:19: DataConversionWarning: A column-vector y was passed when a 1d array was expected. Please change the shape of y to (n_samples,), for example using ravel().\n"
          ],
          "name": "stderr"
        },
        {
          "output_type": "stream",
          "text": [
            "AUC score:\n",
            "0.5683333333333334\n",
            "---\n",
            "Confusion Matrix:\n",
            "[[11  9]\n",
            " [10 20]]\n",
            "---\n",
            "Acurracy:\n",
            "0.62\n",
            "---\n",
            "100\n",
            "550\n",
            "-\n"
          ],
          "name": "stdout"
        },
        {
          "output_type": "stream",
          "text": [
            "/usr/local/lib/python3.7/dist-packages/pandas/core/frame.py:4308: SettingWithCopyWarning: \n",
            "A value is trying to be set on a copy of a slice from a DataFrame\n",
            "\n",
            "See the caveats in the documentation: https://pandas.pydata.org/pandas-docs/stable/user_guide/indexing.html#returning-a-view-versus-a-copy\n",
            "  errors=errors,\n",
            "/usr/local/lib/python3.7/dist-packages/ipykernel_launcher.py:19: DataConversionWarning: A column-vector y was passed when a 1d array was expected. Please change the shape of y to (n_samples,), for example using ravel().\n"
          ],
          "name": "stderr"
        },
        {
          "output_type": "stream",
          "text": [
            "AUC score:\n",
            "0.7058823529411764\n",
            "---\n",
            "Confusion Matrix:\n",
            "[[32  1]\n",
            " [12  5]]\n",
            "---\n",
            "Acurracy:\n",
            "0.74\n",
            "---\n"
          ],
          "name": "stdout"
        },
        {
          "output_type": "stream",
          "text": [
            "/usr/local/lib/python3.7/dist-packages/ipykernel_launcher.py:19: DataConversionWarning: A column-vector y was passed when a 1d array was expected. Please change the shape of y to (n_samples,), for example using ravel().\n"
          ],
          "name": "stderr"
        },
        {
          "output_type": "stream",
          "text": [
            "AUC score:\n",
            "0.7058823529411764\n",
            "---\n",
            "Confusion Matrix:\n",
            "[[10  7]\n",
            " [ 7 26]]\n",
            "---\n",
            "Acurracy:\n",
            "0.72\n",
            "---\n",
            "150\n",
            "600\n",
            "-\n"
          ],
          "name": "stdout"
        },
        {
          "output_type": "stream",
          "text": [
            "/usr/local/lib/python3.7/dist-packages/pandas/core/frame.py:4308: SettingWithCopyWarning: \n",
            "A value is trying to be set on a copy of a slice from a DataFrame\n",
            "\n",
            "See the caveats in the documentation: https://pandas.pydata.org/pandas-docs/stable/user_guide/indexing.html#returning-a-view-versus-a-copy\n",
            "  errors=errors,\n",
            "/usr/local/lib/python3.7/dist-packages/ipykernel_launcher.py:19: DataConversionWarning: A column-vector y was passed when a 1d array was expected. Please change the shape of y to (n_samples,), for example using ravel().\n"
          ],
          "name": "stderr"
        },
        {
          "output_type": "stream",
          "text": [
            "AUC score:\n",
            "0.5845588235294117\n",
            "---\n",
            "Confusion Matrix:\n",
            "[[27  7]\n",
            " [14  2]]\n",
            "---\n",
            "Acurracy:\n",
            "0.58\n",
            "---\n"
          ],
          "name": "stdout"
        },
        {
          "output_type": "stream",
          "text": [
            "/usr/local/lib/python3.7/dist-packages/ipykernel_launcher.py:19: DataConversionWarning: A column-vector y was passed when a 1d array was expected. Please change the shape of y to (n_samples,), for example using ravel().\n"
          ],
          "name": "stderr"
        },
        {
          "output_type": "stream",
          "text": [
            "AUC score:\n",
            "0.5845588235294118\n",
            "---\n",
            "Confusion Matrix:\n",
            "[[ 8  8]\n",
            " [15 19]]\n",
            "---\n",
            "Acurracy:\n",
            "0.54\n",
            "---\n",
            "200\n",
            "650\n",
            "-\n"
          ],
          "name": "stdout"
        },
        {
          "output_type": "stream",
          "text": [
            "/usr/local/lib/python3.7/dist-packages/pandas/core/frame.py:4308: SettingWithCopyWarning: \n",
            "A value is trying to be set on a copy of a slice from a DataFrame\n",
            "\n",
            "See the caveats in the documentation: https://pandas.pydata.org/pandas-docs/stable/user_guide/indexing.html#returning-a-view-versus-a-copy\n",
            "  errors=errors,\n",
            "/usr/local/lib/python3.7/dist-packages/ipykernel_launcher.py:19: DataConversionWarning: A column-vector y was passed when a 1d array was expected. Please change the shape of y to (n_samples,), for example using ravel().\n"
          ],
          "name": "stderr"
        },
        {
          "output_type": "stream",
          "text": [
            "AUC score:\n",
            "0.7133333333333334\n",
            "---\n",
            "Confusion Matrix:\n",
            "[[28  2]\n",
            " [13  7]]\n",
            "---\n",
            "Acurracy:\n",
            "0.7\n",
            "---\n"
          ],
          "name": "stdout"
        },
        {
          "output_type": "stream",
          "text": [
            "/usr/local/lib/python3.7/dist-packages/ipykernel_launcher.py:19: DataConversionWarning: A column-vector y was passed when a 1d array was expected. Please change the shape of y to (n_samples,), for example using ravel().\n"
          ],
          "name": "stderr"
        },
        {
          "output_type": "stream",
          "text": [
            "AUC score:\n",
            "0.7133333333333334\n",
            "---\n",
            "Confusion Matrix:\n",
            "[[13  7]\n",
            " [10 20]]\n",
            "---\n",
            "Acurracy:\n",
            "0.66\n",
            "---\n",
            "250\n",
            "700\n",
            "-\n"
          ],
          "name": "stdout"
        },
        {
          "output_type": "stream",
          "text": [
            "/usr/local/lib/python3.7/dist-packages/pandas/core/frame.py:4308: SettingWithCopyWarning: \n",
            "A value is trying to be set on a copy of a slice from a DataFrame\n",
            "\n",
            "See the caveats in the documentation: https://pandas.pydata.org/pandas-docs/stable/user_guide/indexing.html#returning-a-view-versus-a-copy\n",
            "  errors=errors,\n",
            "/usr/local/lib/python3.7/dist-packages/ipykernel_launcher.py:19: DataConversionWarning: A column-vector y was passed when a 1d array was expected. Please change the shape of y to (n_samples,), for example using ravel().\n"
          ],
          "name": "stderr"
        },
        {
          "output_type": "stream",
          "text": [
            "AUC score:\n",
            "0.7531194295900178\n",
            "---\n",
            "Confusion Matrix:\n",
            "[[30  3]\n",
            " [11  6]]\n",
            "---\n",
            "Acurracy:\n",
            "0.72\n",
            "---\n"
          ],
          "name": "stdout"
        },
        {
          "output_type": "stream",
          "text": [
            "/usr/local/lib/python3.7/dist-packages/ipykernel_launcher.py:19: DataConversionWarning: A column-vector y was passed when a 1d array was expected. Please change the shape of y to (n_samples,), for example using ravel().\n"
          ],
          "name": "stderr"
        },
        {
          "output_type": "stream",
          "text": [
            "AUC score:\n",
            "0.7630208333333334\n",
            "---\n",
            "Confusion Matrix:\n",
            "[[12  6]\n",
            " [ 7 25]]\n",
            "---\n",
            "Acurracy:\n",
            "0.74\n",
            "---\n",
            "300\n",
            "750\n",
            "-\n"
          ],
          "name": "stdout"
        },
        {
          "output_type": "stream",
          "text": [
            "/usr/local/lib/python3.7/dist-packages/pandas/core/frame.py:4308: SettingWithCopyWarning: \n",
            "A value is trying to be set on a copy of a slice from a DataFrame\n",
            "\n",
            "See the caveats in the documentation: https://pandas.pydata.org/pandas-docs/stable/user_guide/indexing.html#returning-a-view-versus-a-copy\n",
            "  errors=errors,\n",
            "/usr/local/lib/python3.7/dist-packages/ipykernel_launcher.py:19: DataConversionWarning: A column-vector y was passed when a 1d array was expected. Please change the shape of y to (n_samples,), for example using ravel().\n"
          ],
          "name": "stderr"
        },
        {
          "output_type": "stream",
          "text": [
            "AUC score:\n",
            "0.5696095076400679\n",
            "---\n",
            "Confusion Matrix:\n",
            "[[26  5]\n",
            " [15  4]]\n",
            "---\n",
            "Acurracy:\n",
            "0.6\n",
            "---\n"
          ],
          "name": "stdout"
        },
        {
          "output_type": "stream",
          "text": [
            "/usr/local/lib/python3.7/dist-packages/ipykernel_launcher.py:19: DataConversionWarning: A column-vector y was passed when a 1d array was expected. Please change the shape of y to (n_samples,), for example using ravel().\n"
          ],
          "name": "stderr"
        },
        {
          "output_type": "stream",
          "text": [
            "AUC score:\n",
            "0.5619694397283531\n",
            "---\n",
            "Confusion Matrix:\n",
            "[[11  8]\n",
            " [11 20]]\n",
            "---\n",
            "Acurracy:\n",
            "0.62\n",
            "---\n",
            "350\n",
            "800\n",
            "-\n"
          ],
          "name": "stdout"
        },
        {
          "output_type": "stream",
          "text": [
            "/usr/local/lib/python3.7/dist-packages/pandas/core/frame.py:4308: SettingWithCopyWarning: \n",
            "A value is trying to be set on a copy of a slice from a DataFrame\n",
            "\n",
            "See the caveats in the documentation: https://pandas.pydata.org/pandas-docs/stable/user_guide/indexing.html#returning-a-view-versus-a-copy\n",
            "  errors=errors,\n",
            "/usr/local/lib/python3.7/dist-packages/ipykernel_launcher.py:19: DataConversionWarning: A column-vector y was passed when a 1d array was expected. Please change the shape of y to (n_samples,), for example using ravel().\n"
          ],
          "name": "stderr"
        },
        {
          "output_type": "stream",
          "text": [
            "AUC score:\n",
            "0.8003472222222222\n",
            "---\n",
            "Confusion Matrix:\n",
            "[[31  1]\n",
            " [ 9  9]]\n",
            "---\n",
            "Acurracy:\n",
            "0.8\n",
            "---\n"
          ],
          "name": "stdout"
        },
        {
          "output_type": "stream",
          "text": [
            "/usr/local/lib/python3.7/dist-packages/ipykernel_launcher.py:19: DataConversionWarning: A column-vector y was passed when a 1d array was expected. Please change the shape of y to (n_samples,), for example using ravel().\n"
          ],
          "name": "stderr"
        },
        {
          "output_type": "stream",
          "text": [
            "AUC score:\n",
            "0.7784380305602717\n",
            "---\n",
            "Confusion Matrix:\n",
            "[[14  5]\n",
            " [11 20]]\n",
            "---\n",
            "Acurracy:\n",
            "0.68\n",
            "---\n",
            "400\n",
            "850\n",
            "-\n"
          ],
          "name": "stdout"
        },
        {
          "output_type": "stream",
          "text": [
            "/usr/local/lib/python3.7/dist-packages/pandas/core/frame.py:4308: SettingWithCopyWarning: \n",
            "A value is trying to be set on a copy of a slice from a DataFrame\n",
            "\n",
            "See the caveats in the documentation: https://pandas.pydata.org/pandas-docs/stable/user_guide/indexing.html#returning-a-view-versus-a-copy\n",
            "  errors=errors,\n",
            "/usr/local/lib/python3.7/dist-packages/ipykernel_launcher.py:19: DataConversionWarning: A column-vector y was passed when a 1d array was expected. Please change the shape of y to (n_samples,), for example using ravel().\n"
          ],
          "name": "stderr"
        },
        {
          "output_type": "stream",
          "text": [
            "AUC score:\n",
            "0.5546875\n",
            "---\n",
            "Confusion Matrix:\n",
            "[[27  5]\n",
            " [14  4]]\n",
            "---\n",
            "Acurracy:\n",
            "0.62\n",
            "---\n"
          ],
          "name": "stdout"
        },
        {
          "output_type": "stream",
          "text": [
            "/usr/local/lib/python3.7/dist-packages/ipykernel_launcher.py:19: DataConversionWarning: A column-vector y was passed when a 1d array was expected. Please change the shape of y to (n_samples,), for example using ravel().\n"
          ],
          "name": "stderr"
        },
        {
          "output_type": "stream",
          "text": [
            "AUC score:\n",
            "0.5260416666666666\n",
            "---\n",
            "Confusion Matrix:\n",
            "[[ 9  9]\n",
            " [15 17]]\n",
            "---\n",
            "Acurracy:\n",
            "0.52\n",
            "---\n",
            "450\n",
            "900\n",
            "-\n"
          ],
          "name": "stdout"
        },
        {
          "output_type": "stream",
          "text": [
            "/usr/local/lib/python3.7/dist-packages/pandas/core/frame.py:4308: SettingWithCopyWarning: \n",
            "A value is trying to be set on a copy of a slice from a DataFrame\n",
            "\n",
            "See the caveats in the documentation: https://pandas.pydata.org/pandas-docs/stable/user_guide/indexing.html#returning-a-view-versus-a-copy\n",
            "  errors=errors,\n",
            "/usr/local/lib/python3.7/dist-packages/ipykernel_launcher.py:19: DataConversionWarning: A column-vector y was passed when a 1d array was expected. Please change the shape of y to (n_samples,), for example using ravel().\n"
          ],
          "name": "stderr"
        },
        {
          "output_type": "stream",
          "text": [
            "AUC score:\n",
            "0.7545955882352942\n",
            "---\n",
            "Confusion Matrix:\n",
            "[[34  0]\n",
            " [14  2]]\n",
            "---\n",
            "Acurracy:\n",
            "0.72\n",
            "---\n"
          ],
          "name": "stdout"
        },
        {
          "output_type": "stream",
          "text": [
            "/usr/local/lib/python3.7/dist-packages/ipykernel_launcher.py:19: DataConversionWarning: A column-vector y was passed when a 1d array was expected. Please change the shape of y to (n_samples,), for example using ravel().\n"
          ],
          "name": "stderr"
        },
        {
          "output_type": "stream",
          "text": [
            "AUC score:\n",
            "0.7830882352941176\n",
            "---\n",
            "Confusion Matrix:\n",
            "[[ 8  8]\n",
            " [ 4 30]]\n",
            "---\n",
            "Acurracy:\n",
            "0.76\n",
            "---\n",
            "500\n",
            "950\n",
            "-\n"
          ],
          "name": "stdout"
        },
        {
          "output_type": "stream",
          "text": [
            "/usr/local/lib/python3.7/dist-packages/pandas/core/frame.py:4308: SettingWithCopyWarning: \n",
            "A value is trying to be set on a copy of a slice from a DataFrame\n",
            "\n",
            "See the caveats in the documentation: https://pandas.pydata.org/pandas-docs/stable/user_guide/indexing.html#returning-a-view-versus-a-copy\n",
            "  errors=errors,\n",
            "/usr/local/lib/python3.7/dist-packages/ipykernel_launcher.py:19: DataConversionWarning: A column-vector y was passed when a 1d array was expected. Please change the shape of y to (n_samples,), for example using ravel().\n"
          ],
          "name": "stderr"
        },
        {
          "output_type": "stream",
          "text": [
            "AUC score:\n",
            "0.7305194805194805\n",
            "---\n",
            "Confusion Matrix:\n",
            "[[27  1]\n",
            " [17  5]]\n",
            "---\n",
            "Acurracy:\n",
            "0.64\n",
            "---\n"
          ],
          "name": "stdout"
        },
        {
          "output_type": "stream",
          "text": [
            "/usr/local/lib/python3.7/dist-packages/ipykernel_launcher.py:19: DataConversionWarning: A column-vector y was passed when a 1d array was expected. Please change the shape of y to (n_samples,), for example using ravel().\n"
          ],
          "name": "stderr"
        },
        {
          "output_type": "stream",
          "text": [
            "AUC score:\n",
            "0.7264610389610389\n",
            "---\n",
            "Confusion Matrix:\n",
            "[[14  8]\n",
            " [ 8 20]]\n",
            "---\n",
            "Acurracy:\n",
            "0.68\n",
            "---\n",
            "550\n",
            "1000\n",
            "-\n"
          ],
          "name": "stdout"
        },
        {
          "output_type": "stream",
          "text": [
            "/usr/local/lib/python3.7/dist-packages/pandas/core/frame.py:4308: SettingWithCopyWarning: \n",
            "A value is trying to be set on a copy of a slice from a DataFrame\n",
            "\n",
            "See the caveats in the documentation: https://pandas.pydata.org/pandas-docs/stable/user_guide/indexing.html#returning-a-view-versus-a-copy\n",
            "  errors=errors,\n",
            "/usr/local/lib/python3.7/dist-packages/ipykernel_launcher.py:19: DataConversionWarning: A column-vector y was passed when a 1d array was expected. Please change the shape of y to (n_samples,), for example using ravel().\n"
          ],
          "name": "stderr"
        },
        {
          "output_type": "stream",
          "text": [
            "AUC score:\n",
            "0.7248376623376623\n",
            "---\n",
            "Confusion Matrix:\n",
            "[[28  0]\n",
            " [16  6]]\n",
            "---\n",
            "Acurracy:\n",
            "0.68\n",
            "---\n"
          ],
          "name": "stdout"
        },
        {
          "output_type": "stream",
          "text": [
            "/usr/local/lib/python3.7/dist-packages/ipykernel_launcher.py:19: DataConversionWarning: A column-vector y was passed when a 1d array was expected. Please change the shape of y to (n_samples,), for example using ravel().\n"
          ],
          "name": "stderr"
        },
        {
          "output_type": "stream",
          "text": [
            "AUC score:\n",
            "0.713474025974026\n",
            "---\n",
            "Confusion Matrix:\n",
            "[[15  7]\n",
            " [13 15]]\n",
            "---\n",
            "Acurracy:\n",
            "0.6\n",
            "---\n",
            "600\n",
            "1050\n",
            "-\n"
          ],
          "name": "stdout"
        },
        {
          "output_type": "stream",
          "text": [
            "/usr/local/lib/python3.7/dist-packages/pandas/core/frame.py:4308: SettingWithCopyWarning: \n",
            "A value is trying to be set on a copy of a slice from a DataFrame\n",
            "\n",
            "See the caveats in the documentation: https://pandas.pydata.org/pandas-docs/stable/user_guide/indexing.html#returning-a-view-versus-a-copy\n",
            "  errors=errors,\n",
            "/usr/local/lib/python3.7/dist-packages/ipykernel_launcher.py:19: DataConversionWarning: A column-vector y was passed when a 1d array was expected. Please change the shape of y to (n_samples,), for example using ravel().\n"
          ],
          "name": "stderr"
        },
        {
          "output_type": "stream",
          "text": [
            "AUC score:\n",
            "0.7451923076923077\n",
            "---\n",
            "Confusion Matrix:\n",
            "[[21  3]\n",
            " [13 13]]\n",
            "---\n",
            "Acurracy:\n",
            "0.68\n",
            "---\n"
          ],
          "name": "stdout"
        },
        {
          "output_type": "stream",
          "text": [
            "/usr/local/lib/python3.7/dist-packages/ipykernel_launcher.py:19: DataConversionWarning: A column-vector y was passed when a 1d array was expected. Please change the shape of y to (n_samples,), for example using ravel().\n"
          ],
          "name": "stderr"
        },
        {
          "output_type": "stream",
          "text": [
            "AUC score:\n",
            "0.7375201288244767\n",
            "---\n",
            "Confusion Matrix:\n",
            "[[21  6]\n",
            " [12 11]]\n",
            "---\n",
            "Acurracy:\n",
            "0.64\n",
            "---\n",
            "650\n",
            "1100\n",
            "-\n"
          ],
          "name": "stdout"
        },
        {
          "output_type": "stream",
          "text": [
            "/usr/local/lib/python3.7/dist-packages/pandas/core/frame.py:4308: SettingWithCopyWarning: \n",
            "A value is trying to be set on a copy of a slice from a DataFrame\n",
            "\n",
            "See the caveats in the documentation: https://pandas.pydata.org/pandas-docs/stable/user_guide/indexing.html#returning-a-view-versus-a-copy\n",
            "  errors=errors,\n",
            "/usr/local/lib/python3.7/dist-packages/ipykernel_launcher.py:19: DataConversionWarning: A column-vector y was passed when a 1d array was expected. Please change the shape of y to (n_samples,), for example using ravel().\n"
          ],
          "name": "stderr"
        },
        {
          "output_type": "stream",
          "text": [
            "AUC score:\n",
            "0.6025641025641025\n",
            "---\n",
            "Confusion Matrix:\n",
            "[[20  4]\n",
            " [18  8]]\n",
            "---\n",
            "Acurracy:\n",
            "0.56\n",
            "---\n"
          ],
          "name": "stdout"
        },
        {
          "output_type": "stream",
          "text": [
            "/usr/local/lib/python3.7/dist-packages/ipykernel_launcher.py:19: DataConversionWarning: A column-vector y was passed when a 1d array was expected. Please change the shape of y to (n_samples,), for example using ravel().\n"
          ],
          "name": "stderr"
        },
        {
          "output_type": "stream",
          "text": [
            "AUC score:\n",
            "0.624198717948718\n",
            "---\n",
            "Confusion Matrix:\n",
            "[[20  6]\n",
            " [12 12]]\n",
            "---\n",
            "Acurracy:\n",
            "0.64\n",
            "---\n",
            "700\n",
            "1150\n",
            "-\n"
          ],
          "name": "stdout"
        },
        {
          "output_type": "stream",
          "text": [
            "/usr/local/lib/python3.7/dist-packages/pandas/core/frame.py:4308: SettingWithCopyWarning: \n",
            "A value is trying to be set on a copy of a slice from a DataFrame\n",
            "\n",
            "See the caveats in the documentation: https://pandas.pydata.org/pandas-docs/stable/user_guide/indexing.html#returning-a-view-versus-a-copy\n",
            "  errors=errors,\n",
            "/usr/local/lib/python3.7/dist-packages/ipykernel_launcher.py:19: DataConversionWarning: A column-vector y was passed when a 1d array was expected. Please change the shape of y to (n_samples,), for example using ravel().\n"
          ],
          "name": "stderr"
        },
        {
          "output_type": "stream",
          "text": [
            "AUC score:\n",
            "0.5446428571428571\n",
            "---\n",
            "Confusion Matrix:\n",
            "[[19 17]\n",
            " [10  4]]\n",
            "---\n",
            "Acurracy:\n",
            "0.46\n",
            "---\n"
          ],
          "name": "stdout"
        },
        {
          "output_type": "stream",
          "text": [
            "/usr/local/lib/python3.7/dist-packages/ipykernel_launcher.py:19: DataConversionWarning: A column-vector y was passed when a 1d array was expected. Please change the shape of y to (n_samples,), for example using ravel().\n"
          ],
          "name": "stderr"
        },
        {
          "output_type": "stream",
          "text": [
            "AUC score:\n",
            "0.5386904761904762\n",
            "---\n",
            "Confusion Matrix:\n",
            "[[11  3]\n",
            " [28  8]]\n",
            "---\n",
            "Acurracy:\n",
            "0.38\n",
            "---\n"
          ],
          "name": "stdout"
        },
        {
          "output_type": "stream",
          "text": [
            "/usr/local/lib/python3.7/dist-packages/pandas/core/frame.py:4308: SettingWithCopyWarning: \n",
            "A value is trying to be set on a copy of a slice from a DataFrame\n",
            "\n",
            "See the caveats in the documentation: https://pandas.pydata.org/pandas-docs/stable/user_guide/indexing.html#returning-a-view-versus-a-copy\n",
            "  errors=errors,\n"
          ],
          "name": "stderr"
        }
      ]
    },
    {
      "cell_type": "code",
      "metadata": {
        "colab": {
          "base_uri": "https://localhost:8080/",
          "height": 422
        },
        "id": "7k7VdmnBizGp",
        "outputId": "a918f07d-39c9-440d-a086-d3cbabba3d11"
      },
      "source": [
        "df_compare_acc"
      ],
      "execution_count": null,
      "outputs": [
        {
          "output_type": "execute_result",
          "data": {
            "text/html": [
              "<div>\n",
              "<style scoped>\n",
              "    .dataframe tbody tr th:only-of-type {\n",
              "        vertical-align: middle;\n",
              "    }\n",
              "\n",
              "    .dataframe tbody tr th {\n",
              "        vertical-align: top;\n",
              "    }\n",
              "\n",
              "    .dataframe thead th {\n",
              "        text-align: right;\n",
              "    }\n",
              "</style>\n",
              "<table border=\"1\" class=\"dataframe\">\n",
              "  <thead>\n",
              "    <tr style=\"text-align: right;\">\n",
              "      <th></th>\n",
              "      <th>price_rised_5</th>\n",
              "      <th>real_values</th>\n",
              "      <th>F_p</th>\n",
              "      <th>price_dropped_5</th>\n",
              "      <th>F_n</th>\n",
              "    </tr>\n",
              "  </thead>\n",
              "  <tbody>\n",
              "    <tr>\n",
              "      <th>0</th>\n",
              "      <td>1</td>\n",
              "      <td>0.810000</td>\n",
              "      <td>0.155</td>\n",
              "      <td>0</td>\n",
              "      <td>0.855</td>\n",
              "    </tr>\n",
              "    <tr>\n",
              "      <th>1</th>\n",
              "      <td>1</td>\n",
              "      <td>1.883333</td>\n",
              "      <td>0.592</td>\n",
              "      <td>0</td>\n",
              "      <td>0.412</td>\n",
              "    </tr>\n",
              "    <tr>\n",
              "      <th>2</th>\n",
              "      <td>1</td>\n",
              "      <td>2.956667</td>\n",
              "      <td>0.753</td>\n",
              "      <td>0</td>\n",
              "      <td>0.257</td>\n",
              "    </tr>\n",
              "    <tr>\n",
              "      <th>3</th>\n",
              "      <td>1</td>\n",
              "      <td>4.030000</td>\n",
              "      <td>0.786</td>\n",
              "      <td>0</td>\n",
              "      <td>0.218</td>\n",
              "    </tr>\n",
              "    <tr>\n",
              "      <th>4</th>\n",
              "      <td>1</td>\n",
              "      <td>1.000000</td>\n",
              "      <td>0.385</td>\n",
              "      <td>0</td>\n",
              "      <td>0.615</td>\n",
              "    </tr>\n",
              "    <tr>\n",
              "      <th>...</th>\n",
              "      <td>...</td>\n",
              "      <td>...</td>\n",
              "      <td>...</td>\n",
              "      <td>...</td>\n",
              "      <td>...</td>\n",
              "    </tr>\n",
              "    <tr>\n",
              "      <th>745</th>\n",
              "      <td>1</td>\n",
              "      <td>6.186667</td>\n",
              "      <td>0.501</td>\n",
              "      <td>0</td>\n",
              "      <td>0.514</td>\n",
              "    </tr>\n",
              "    <tr>\n",
              "      <th>746</th>\n",
              "      <td>1</td>\n",
              "      <td>9.310000</td>\n",
              "      <td>0.585</td>\n",
              "      <td>0</td>\n",
              "      <td>0.450</td>\n",
              "    </tr>\n",
              "    <tr>\n",
              "      <th>747</th>\n",
              "      <td>0</td>\n",
              "      <td>-3.180000</td>\n",
              "      <td>0.415</td>\n",
              "      <td>1</td>\n",
              "      <td>0.576</td>\n",
              "    </tr>\n",
              "    <tr>\n",
              "      <th>748</th>\n",
              "      <td>0</td>\n",
              "      <td>-3.240000</td>\n",
              "      <td>0.742</td>\n",
              "      <td>1</td>\n",
              "      <td>0.257</td>\n",
              "    </tr>\n",
              "    <tr>\n",
              "      <th>749</th>\n",
              "      <td>0</td>\n",
              "      <td>-4.407500</td>\n",
              "      <td>0.741</td>\n",
              "      <td>1</td>\n",
              "      <td>0.278</td>\n",
              "    </tr>\n",
              "  </tbody>\n",
              "</table>\n",
              "<p>750 rows × 5 columns</p>\n",
              "</div>"
            ],
            "text/plain": [
              "     price_rised_5  real_values    F_p  price_dropped_5    F_n\n",
              "0                1     0.810000  0.155                0  0.855\n",
              "1                1     1.883333  0.592                0  0.412\n",
              "2                1     2.956667  0.753                0  0.257\n",
              "3                1     4.030000  0.786                0  0.218\n",
              "4                1     1.000000  0.385                0  0.615\n",
              "..             ...          ...    ...              ...    ...\n",
              "745              1     6.186667  0.501                0  0.514\n",
              "746              1     9.310000  0.585                0  0.450\n",
              "747              0    -3.180000  0.415                1  0.576\n",
              "748              0    -3.240000  0.742                1  0.257\n",
              "749              0    -4.407500  0.741                1  0.278\n",
              "\n",
              "[750 rows x 5 columns]"
            ]
          },
          "metadata": {
            "tags": []
          },
          "execution_count": 14
        }
      ]
    },
    {
      "cell_type": "code",
      "metadata": {
        "id": "16ZbFzlSi-wO"
      },
      "source": [
        "def runSimulation(include_pos, includle_neg, starting_sum):\n",
        "    sum_lst = []\n",
        "    actual_sum = starting_sum\n",
        "    for index, row in df_compare_acc.iterrows():\n",
        "        if row['F_p'] > 0.5 and row['F_n'] < 0.5 and include_pos:\n",
        "            actual_sum = actual_sum + (actual_sum * (row['real_values'] / 100))\n",
        "        if row['F_n'] > 0.5 and row['F_p'] < 0.5 and includle_neg:\n",
        "            actual_sum = actual_sum - (actual_sum * (row['real_values'] / 100))\n",
        "        sum_lst.append(actual_sum)\n",
        "    return sum_lst"
      ],
      "execution_count": null,
      "outputs": []
    },
    {
      "cell_type": "code",
      "metadata": {
        "colab": {
          "base_uri": "https://localhost:8080/",
          "height": 301
        },
        "id": "VsB9CvsNjBCW",
        "outputId": "fdd1879d-cfff-48ed-ea3e-8e5870f6af8a"
      },
      "source": [
        "sum_lst = runSimulation(True, False, 1000)\n",
        "df_compare_acc['actual_sum'] = sum_lst\n",
        "print(sum_lst[len(sum_lst)-1])\n",
        "df_compare_acc.plot(y = ['actual_sum'])"
      ],
      "execution_count": null,
      "outputs": [
        {
          "output_type": "stream",
          "text": [
            "3870.3718204330225\n"
          ],
          "name": "stdout"
        },
        {
          "output_type": "execute_result",
          "data": {
            "text/plain": [
              "<matplotlib.axes._subplots.AxesSubplot at 0x7feba250d710>"
            ]
          },
          "metadata": {
            "tags": []
          },
          "execution_count": 16
        },
        {
          "output_type": "display_data",
          "data": {
            "image/png": "[encoded data removed]",
            "text/plain": [
              "<Figure size 432x288 with 1 Axes>"
            ]
          },
          "metadata": {
            "tags": [],
            "needs_background": "light"
          }
        }
      ]
    },
    {
      "cell_type": "code",
      "metadata": {
        "colab": {
          "base_uri": "https://localhost:8080/",
          "height": 301
        },
        "id": "5HMWCqHGjHHC",
        "outputId": "acd0b2db-2184-44cb-a961-91c819c9df45"
      },
      "source": [
        "sum_lst = runSimulation(False, True, 1000)\n",
        "df_compare_acc['actual_sum'] = sum_lst\n",
        "print(sum_lst[len(sum_lst)-1])\n",
        "df_compare_acc.plot(y = ['actual_sum'])"
      ],
      "execution_count": null,
      "outputs": [
        {
          "output_type": "stream",
          "text": [
            "2564.4963065774746\n"
          ],
          "name": "stdout"
        },
        {
          "output_type": "execute_result",
          "data": {
            "text/plain": [
              "<matplotlib.axes._subplots.AxesSubplot at 0x7feb79a37a90>"
            ]
          },
          "metadata": {
            "tags": []
          },
          "execution_count": 17
        },
        {
          "output_type": "display_data",
          "data": {
            "image/png": "[encoded data removed]",
            "text/plain": [
              "<Figure size 432x288 with 1 Axes>"
            ]
          },
          "metadata": {
            "tags": [],
            "needs_background": "light"
          }
        }
      ]
    },
    {
      "cell_type": "code",
      "metadata": {
        "colab": {
          "base_uri": "https://localhost:8080/",
          "height": 301
        },
        "id": "cWEt7cNBjLjR",
        "outputId": "7d57fdf8-bc5c-45c3-bbf9-a0578d7233c1"
      },
      "source": [
        "sum_lst = runSimulation(True, True, 1000)\n",
        "df_compare_acc['actual_sum'] = sum_lst\n",
        "print(sum_lst[len(sum_lst)-1])\n",
        "df_compare_acc.plot(y = ['actual_sum'])"
      ],
      "execution_count": null,
      "outputs": [
        {
          "output_type": "stream",
          "text": [
            "9925.554238582003\n"
          ],
          "name": "stdout"
        },
        {
          "output_type": "execute_result",
          "data": {
            "text/plain": [
              "<matplotlib.axes._subplots.AxesSubplot at 0x7feb8b197550>"
            ]
          },
          "metadata": {
            "tags": []
          },
          "execution_count": 18
        },
        {
          "output_type": "display_data",
          "data": {
            "image/png": "[encoded data removed]",
            "text/plain": [
              "<Figure size 432x288 with 1 Axes>"
            ]
          },
          "metadata": {
            "tags": [],
            "needs_background": "light"
          }
        }
      ]
    }
  ]
}