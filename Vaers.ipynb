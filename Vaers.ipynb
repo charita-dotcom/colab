{
  "nbformat": 4,
  "nbformat_minor": 0,
  "metadata": {
    "colab": {
      "provenance": [],
      "toc_visible": true,
      "include_colab_link": true
    },
    "kernelspec": {
      "name": "python3",
      "display_name": "Python 3"
    },
    "language_info": {
      "name": "python"
    }
  },
  "cells": [
    {
      "cell_type": "markdown",
      "metadata": {
        "id": "view-in-github",
        "colab_type": "text"
      },
      "source": [
        "<a href=\"https://colab.research.google.com/github/charita-dotcom/colab/blob/main/Vaers.ipynb\" target=\"_parent\"><img src=\"https://colab.research.google.com/assets/colab-badge.svg\" alt=\"Open In Colab\"/></a>"
      ]
    },
    {
      "cell_type": "code",
      "metadata": {
        "colab": {
          "base_uri": "https://localhost:8080/"
        },
        "id": "xczVv9p-ZUvs",
        "outputId": "98b353d7-9680-41f3-cf7c-bdf52a300bd3"
      },
      "source": [
        "from google.colab import drive\n",
        "drive.mount('/content/drive')"
      ],
      "execution_count": null,
      "outputs": [
        {
          "output_type": "stream",
          "text": [
            "Drive already mounted at /content/drive; to attempt to forcibly remount, call drive.mount(\"/content/drive\", force_remount=True).\n"
          ],
          "name": "stdout"
        }
      ]
    },
    {
      "cell_type": "code",
      "metadata": {
        "colab": {
          "base_uri": "https://localhost:8080/",
          "height": 791
        },
        "id": "Rqpdmtuyg_MF",
        "outputId": "1a3e201f-74f9-4c09-dd89-e851845f1f0c"
      },
      "source": [
        "import numpy as np\n",
        "import pandas as pd\n",
        "import matplotlib.pyplot as plot\n",
        "import seaborn as sns\n",
        "\n",
        "vax_data = pd.read_excel('/content/drive/MyDrive/VAERS_DATA/VAERS_CANDIDATE-VAXINE-SYMPTOMS-DATA.xlsx')\n",
        "vax_data"
      ],
      "execution_count": null,
      "outputs": [
        {
          "output_type": "execute_result",
          "data": {
            "text/html": [
              "<div>\n",
              "<style scoped>\n",
              "    .dataframe tbody tr th:only-of-type {\n",
              "        vertical-align: middle;\n",
              "    }\n",
              "\n",
              "    .dataframe tbody tr th {\n",
              "        vertical-align: top;\n",
              "    }\n",
              "\n",
              "    .dataframe thead th {\n",
              "        text-align: right;\n",
              "    }\n",
              "</style>\n",
              "<table border=\"1\" class=\"dataframe\">\n",
              "  <thead>\n",
              "    <tr style=\"text-align: right;\">\n",
              "      <th></th>\n",
              "      <th>VAERS_ID</th>\n",
              "      <th>STATE</th>\n",
              "      <th>AGE_YRS</th>\n",
              "      <th>SEX</th>\n",
              "      <th>DIED</th>\n",
              "      <th>L_THREAT</th>\n",
              "      <th>RECOVD</th>\n",
              "      <th>V_ADMINBY</th>\n",
              "      <th>VAX_MANU</th>\n",
              "      <th>VAX_DOSE_SERIES</th>\n",
              "      <th>VAX_ROUTE</th>\n",
              "      <th>VAX_SITE</th>\n",
              "      <th>VAX_NAME</th>\n",
              "      <th>Symptom 1</th>\n",
              "      <th>Symptom 2</th>\n",
              "      <th>Symptom 3</th>\n",
              "      <th>Symptom 4</th>\n",
              "      <th>Symptom 5</th>\n",
              "    </tr>\n",
              "  </thead>\n",
              "  <tbody>\n",
              "    <tr>\n",
              "      <th>0</th>\n",
              "      <td>916600</td>\n",
              "      <td>TX</td>\n",
              "      <td>33.0</td>\n",
              "      <td>F</td>\n",
              "      <td>N</td>\n",
              "      <td>N</td>\n",
              "      <td>Y</td>\n",
              "      <td>PVT</td>\n",
              "      <td>MODERNA</td>\n",
              "      <td>1</td>\n",
              "      <td>IM</td>\n",
              "      <td>LA</td>\n",
              "      <td>COVID19 (COVID19 (MODERNA))</td>\n",
              "      <td>Dysphagia</td>\n",
              "      <td>Epiglottitis</td>\n",
              "      <td>NaN</td>\n",
              "      <td>NaN</td>\n",
              "      <td>NaN</td>\n",
              "    </tr>\n",
              "    <tr>\n",
              "      <th>1</th>\n",
              "      <td>916601</td>\n",
              "      <td>CA</td>\n",
              "      <td>73.0</td>\n",
              "      <td>F</td>\n",
              "      <td>N</td>\n",
              "      <td>N</td>\n",
              "      <td>Y</td>\n",
              "      <td>SEN</td>\n",
              "      <td>MODERNA</td>\n",
              "      <td>1</td>\n",
              "      <td>IM</td>\n",
              "      <td>RA</td>\n",
              "      <td>COVID19 (COVID19 (MODERNA))</td>\n",
              "      <td>Anxiety</td>\n",
              "      <td>Dyspnoea</td>\n",
              "      <td>NaN</td>\n",
              "      <td>NaN</td>\n",
              "      <td>NaN</td>\n",
              "    </tr>\n",
              "    <tr>\n",
              "      <th>2</th>\n",
              "      <td>916604</td>\n",
              "      <td>TX</td>\n",
              "      <td>47.0</td>\n",
              "      <td>F</td>\n",
              "      <td>N</td>\n",
              "      <td>N</td>\n",
              "      <td>N</td>\n",
              "      <td>PUB</td>\n",
              "      <td>MODERNA</td>\n",
              "      <td>1</td>\n",
              "      <td>IM</td>\n",
              "      <td>LA</td>\n",
              "      <td>COVID19 (COVID19 (MODERNA))</td>\n",
              "      <td>Injection site erythema</td>\n",
              "      <td>Injection site pruritus</td>\n",
              "      <td>Injection site swelling</td>\n",
              "      <td>Injection site warmth</td>\n",
              "      <td>NaN</td>\n",
              "    </tr>\n",
              "    <tr>\n",
              "      <th>3</th>\n",
              "      <td>916606</td>\n",
              "      <td>NV</td>\n",
              "      <td>44.0</td>\n",
              "      <td>F</td>\n",
              "      <td>N</td>\n",
              "      <td>N</td>\n",
              "      <td>Y</td>\n",
              "      <td>PVT</td>\n",
              "      <td>MODERNA</td>\n",
              "      <td>1</td>\n",
              "      <td>IM</td>\n",
              "      <td>LA</td>\n",
              "      <td>COVID19 (COVID19 (MODERNA))</td>\n",
              "      <td>Pharyngeal swelling</td>\n",
              "      <td>NaN</td>\n",
              "      <td>NaN</td>\n",
              "      <td>NaN</td>\n",
              "      <td>NaN</td>\n",
              "    </tr>\n",
              "    <tr>\n",
              "      <th>4</th>\n",
              "      <td>916608</td>\n",
              "      <td>OH</td>\n",
              "      <td>33.0</td>\n",
              "      <td>M</td>\n",
              "      <td>N</td>\n",
              "      <td>N</td>\n",
              "      <td>N</td>\n",
              "      <td>OTH</td>\n",
              "      <td>MODERNA</td>\n",
              "      <td>1</td>\n",
              "      <td>IM</td>\n",
              "      <td>LA</td>\n",
              "      <td>COVID19 (COVID19 (MODERNA))</td>\n",
              "      <td>Diarrhoea</td>\n",
              "      <td>Nasal congestion</td>\n",
              "      <td>NaN</td>\n",
              "      <td>NaN</td>\n",
              "      <td>NaN</td>\n",
              "    </tr>\n",
              "    <tr>\n",
              "      <th>...</th>\n",
              "      <td>...</td>\n",
              "      <td>...</td>\n",
              "      <td>...</td>\n",
              "      <td>...</td>\n",
              "      <td>...</td>\n",
              "      <td>...</td>\n",
              "      <td>...</td>\n",
              "      <td>...</td>\n",
              "      <td>...</td>\n",
              "      <td>...</td>\n",
              "      <td>...</td>\n",
              "      <td>...</td>\n",
              "      <td>...</td>\n",
              "      <td>...</td>\n",
              "      <td>...</td>\n",
              "      <td>...</td>\n",
              "      <td>...</td>\n",
              "      <td>...</td>\n",
              "    </tr>\n",
              "    <tr>\n",
              "      <th>4711</th>\n",
              "      <td>1039271</td>\n",
              "      <td>WI</td>\n",
              "      <td>90.0</td>\n",
              "      <td>M</td>\n",
              "      <td>Y</td>\n",
              "      <td>N</td>\n",
              "      <td>N</td>\n",
              "      <td>PVT</td>\n",
              "      <td>MODERNA</td>\n",
              "      <td>1</td>\n",
              "      <td>IM</td>\n",
              "      <td>LA</td>\n",
              "      <td>COVID19 (COVID19 (MODERNA))</td>\n",
              "      <td>Death</td>\n",
              "      <td>Fall</td>\n",
              "      <td>Head injury</td>\n",
              "      <td>Injection site ulcer</td>\n",
              "      <td>Malaise</td>\n",
              "    </tr>\n",
              "    <tr>\n",
              "      <th>4712</th>\n",
              "      <td>1039304</td>\n",
              "      <td>CA</td>\n",
              "      <td>73.0</td>\n",
              "      <td>M</td>\n",
              "      <td>Y</td>\n",
              "      <td>N</td>\n",
              "      <td>N</td>\n",
              "      <td>SEN</td>\n",
              "      <td>MODERNA</td>\n",
              "      <td>1</td>\n",
              "      <td>IM</td>\n",
              "      <td>LA</td>\n",
              "      <td>COVID19 (COVID19 (MODERNA))</td>\n",
              "      <td>Blood sodium normal</td>\n",
              "      <td>Blood urea increased</td>\n",
              "      <td>Body temperature increased</td>\n",
              "      <td>Death</td>\n",
              "      <td>Dysphagia</td>\n",
              "    </tr>\n",
              "    <tr>\n",
              "      <th>4713</th>\n",
              "      <td>1039597</td>\n",
              "      <td>na</td>\n",
              "      <td>64.0</td>\n",
              "      <td>M</td>\n",
              "      <td>Y</td>\n",
              "      <td>N</td>\n",
              "      <td>N</td>\n",
              "      <td>OTH</td>\n",
              "      <td>PFIZER\\BIONTECH</td>\n",
              "      <td>1</td>\n",
              "      <td>IM</td>\n",
              "      <td>RA</td>\n",
              "      <td>COVID19 (COVID19 (PFIZER-BIONTECH))</td>\n",
              "      <td>Death</td>\n",
              "      <td>Decubitus ulcer</td>\n",
              "      <td>Pneumonia aspiration</td>\n",
              "      <td>Sepsis</td>\n",
              "      <td>NaN</td>\n",
              "    </tr>\n",
              "    <tr>\n",
              "      <th>4714</th>\n",
              "      <td>1040005</td>\n",
              "      <td>NY</td>\n",
              "      <td>72.0</td>\n",
              "      <td>F</td>\n",
              "      <td>Y</td>\n",
              "      <td>N</td>\n",
              "      <td>N</td>\n",
              "      <td>PHM</td>\n",
              "      <td>MODERNA</td>\n",
              "      <td>2</td>\n",
              "      <td>IM</td>\n",
              "      <td>LA</td>\n",
              "      <td>COVID19 (COVID19 (MODERNA))</td>\n",
              "      <td>Death</td>\n",
              "      <td>Unresponsive to stimuli</td>\n",
              "      <td>NaN</td>\n",
              "      <td>NaN</td>\n",
              "      <td>NaN</td>\n",
              "    </tr>\n",
              "    <tr>\n",
              "      <th>4715</th>\n",
              "      <td>1040574</td>\n",
              "      <td>GA</td>\n",
              "      <td>66.0</td>\n",
              "      <td>F</td>\n",
              "      <td>Y</td>\n",
              "      <td>N</td>\n",
              "      <td>N</td>\n",
              "      <td>UNK</td>\n",
              "      <td>MODERNA</td>\n",
              "      <td>1</td>\n",
              "      <td>SYR</td>\n",
              "      <td>RA</td>\n",
              "      <td>COVID19 (COVID19 (MODERNA))</td>\n",
              "      <td>Cardiac arrest</td>\n",
              "      <td>Death</td>\n",
              "      <td>Syncope</td>\n",
              "      <td>Unresponsive to stimuli</td>\n",
              "      <td>NaN</td>\n",
              "    </tr>\n",
              "  </tbody>\n",
              "</table>\n",
              "<p>4716 rows × 18 columns</p>\n",
              "</div>"
            ],
            "text/plain": [
              "      VAERS_ID STATE  ...                Symptom 4  Symptom 5\n",
              "0       916600    TX  ...                      NaN        NaN\n",
              "1       916601    CA  ...                      NaN        NaN\n",
              "2       916604    TX  ...    Injection site warmth        NaN\n",
              "3       916606    NV  ...                      NaN        NaN\n",
              "4       916608    OH  ...                      NaN        NaN\n",
              "...        ...   ...  ...                      ...        ...\n",
              "4711   1039271    WI  ...     Injection site ulcer    Malaise\n",
              "4712   1039304    CA  ...                    Death  Dysphagia\n",
              "4713   1039597    na  ...                   Sepsis        NaN\n",
              "4714   1040005    NY  ...                      NaN        NaN\n",
              "4715   1040574    GA  ...  Unresponsive to stimuli        NaN\n",
              "\n",
              "[4716 rows x 18 columns]"
            ]
          },
          "metadata": {
            "tags": []
          },
          "execution_count": 2
        }
      ]
    },
    {
      "cell_type": "code",
      "metadata": {
        "colab": {
          "base_uri": "https://localhost:8080/"
        },
        "id": "Y8qVH0u8k4mZ",
        "outputId": "2d9369e8-f150-4b6a-f2d5-a1a190c086e0"
      },
      "source": [
        "#rows and columns\n",
        "vax_data.shape"
      ],
      "execution_count": null,
      "outputs": [
        {
          "output_type": "execute_result",
          "data": {
            "text/plain": [
              "(4716, 18)"
            ]
          },
          "metadata": {
            "tags": []
          },
          "execution_count": 3
        }
      ]
    },
    {
      "cell_type": "code",
      "metadata": {
        "id": "hi7_xPeIfUar"
      },
      "source": [
        "#Analysis Starts"
      ],
      "execution_count": null,
      "outputs": []
    },
    {
      "cell_type": "markdown",
      "metadata": {
        "id": "uX6S7XX9fYXA"
      },
      "source": [
        "# Analysis Starts"
      ]
    },
    {
      "cell_type": "code",
      "metadata": {
        "id": "AbEhZhdSpq5u"
      },
      "source": [
        "#vax_data.info()"
      ],
      "execution_count": null,
      "outputs": []
    },
    {
      "cell_type": "code",
      "metadata": {
        "colab": {
          "base_uri": "https://localhost:8080/",
          "height": 350
        },
        "id": "Ee-7x0Nzfhl_",
        "outputId": "06e4f484-9b73-47c6-c601-96e9ee3b80af"
      },
      "source": [
        "#Gender based analysis\n",
        "# sns.barplot(vax_data.SEX, vax_data.index)\n",
        "sns.countplot(vax_data.SEX)"
      ],
      "execution_count": null,
      "outputs": [
        {
          "output_type": "stream",
          "text": [
            "/usr/local/lib/python3.7/dist-packages/seaborn/_decorators.py:43: FutureWarning: Pass the following variable as a keyword arg: x. From version 0.12, the only valid positional argument will be `data`, and passing other arguments without an explicit keyword will result in an error or misinterpretation.\n",
            "  FutureWarning\n"
          ],
          "name": "stderr"
        },
        {
          "output_type": "execute_result",
          "data": {
            "text/plain": [
              "<matplotlib.axes._subplots.AxesSubplot at 0x7f893de9f390>"
            ]
          },
          "metadata": {
            "tags": []
          },
          "execution_count": 6
        },
        {
          "output_type": "display_data",
          "data": {
            "image/png": "[encoded data removed]",
            "text/plain": [
              "<Figure size 432x288 with 1 Axes>"
            ]
          },
          "metadata": {
            "tags": [],
            "needs_background": "light"
          }
        }
      ]
    },
    {
      "cell_type": "code",
      "metadata": {
        "colab": {
          "base_uri": "https://localhost:8080/",
          "height": 355
        },
        "id": "zs8ztakCn7dH",
        "outputId": "4cb67e65-de20-42b2-eee6-d0c6cc30b70b"
      },
      "source": [
        "sns.set(color_codes = True)\n",
        "sns.barplot(vax_data.AGE_YRS, vax_data.SEX)"
      ],
      "execution_count": null,
      "outputs": [
        {
          "output_type": "stream",
          "text": [
            "/usr/local/lib/python3.7/dist-packages/seaborn/_decorators.py:43: FutureWarning: Pass the following variables as keyword args: x, y. From version 0.12, the only valid positional argument will be `data`, and passing other arguments without an explicit keyword will result in an error or misinterpretation.\n",
            "  FutureWarning\n"
          ],
          "name": "stderr"
        },
        {
          "output_type": "execute_result",
          "data": {
            "text/plain": [
              "<matplotlib.axes._subplots.AxesSubplot at 0x7f890a90cad0>"
            ]
          },
          "metadata": {
            "tags": []
          },
          "execution_count": 7
        },
        {
          "output_type": "display_data",
          "data": {
            "image/png": "[encoded data removed]",
            "text/plain": [
              "<Figure size 432x288 with 1 Axes>"
            ]
          },
          "metadata": {
            "tags": []
          }
        }
      ]
    },
    {
      "cell_type": "code",
      "metadata": {
        "colab": {
          "base_uri": "https://localhost:8080/",
          "height": 302
        },
        "id": "wHzLEn_drZbN",
        "outputId": "92e4ca50-941c-4fc0-a6fc-725071ddcbb9"
      },
      "source": [
        "# Age Analysis of VAERS Data\n",
        "sns.histplot(vax_data.AGE_YRS)"
      ],
      "execution_count": null,
      "outputs": [
        {
          "output_type": "execute_result",
          "data": {
            "text/plain": [
              "<matplotlib.axes._subplots.AxesSubplot at 0x7f8909d50110>"
            ]
          },
          "metadata": {
            "tags": []
          },
          "execution_count": 8
        },
        {
          "output_type": "display_data",
          "data": {
            "image/png": "[encoded data removed]",
            "text/plain": [
              "<Figure size 432x288 with 1 Axes>"
            ]
          },
          "metadata": {
            "tags": []
          }
        }
      ]
    },
    {
      "cell_type": "code",
      "metadata": {
        "colab": {
          "base_uri": "https://localhost:8080/",
          "height": 302
        },
        "id": "xXWqpng1fap0",
        "outputId": "17c5b966-dcf9-4bc5-f58f-5756c1e24631"
      },
      "source": [
        "#DIED Status of Entities comparing with Gender Analysis\n",
        "sns.countplot(x=\"DIED\",hue=\"SEX\",data=vax_data)"
      ],
      "execution_count": null,
      "outputs": [
        {
          "output_type": "execute_result",
          "data": {
            "text/plain": [
              "<matplotlib.axes._subplots.AxesSubplot at 0x7f8908d92850>"
            ]
          },
          "metadata": {
            "tags": []
          },
          "execution_count": 9
        },
        {
          "output_type": "display_data",
          "data": {
            "image/png": "[encoded data removed]",
            "text/plain": [
              "<Figure size 432x288 with 1 Axes>"
            ]
          },
          "metadata": {
            "tags": []
          }
        }
      ]
    },
    {
      "cell_type": "code",
      "metadata": {
        "colab": {
          "base_uri": "https://localhost:8080/",
          "height": 355
        },
        "id": "yDqjt_lwf67Z",
        "outputId": "c4a7d8e0-5058-44e7-fb41-e346a0b0dac0"
      },
      "source": [
        "#Comparitive Analysis of Vaccines\n",
        "sns.countplot(vax_data.VAX_MANU)"
      ],
      "execution_count": null,
      "outputs": [
        {
          "output_type": "stream",
          "text": [
            "/usr/local/lib/python3.7/dist-packages/seaborn/_decorators.py:43: FutureWarning: Pass the following variable as a keyword arg: x. From version 0.12, the only valid positional argument will be `data`, and passing other arguments without an explicit keyword will result in an error or misinterpretation.\n",
            "  FutureWarning\n"
          ],
          "name": "stderr"
        },
        {
          "output_type": "execute_result",
          "data": {
            "text/plain": [
              "<matplotlib.axes._subplots.AxesSubplot at 0x7f8908cf2750>"
            ]
          },
          "metadata": {
            "tags": []
          },
          "execution_count": 10
        },
        {
          "output_type": "display_data",
          "data": {
            "image/png": "[encoded data removed]",
            "text/plain": [
              "<Figure size 432x288 with 1 Axes>"
            ]
          },
          "metadata": {
            "tags": []
          }
        }
      ]
    },
    {
      "cell_type": "code",
      "metadata": {
        "colab": {
          "base_uri": "https://localhost:8080/"
        },
        "id": "R9c2iQzS0nXf",
        "outputId": "7e812dbe-0265-4620-cf26-852223e9a65b"
      },
      "source": [
        "#unique vaccines\n",
        "vax_data.VAX_NAME.unique()"
      ],
      "execution_count": null,
      "outputs": [
        {
          "output_type": "execute_result",
          "data": {
            "text/plain": [
              "array(['COVID19 (COVID19 (MODERNA))',\n",
              "       'COVID19 (COVID19 (PFIZER-BIONTECH))'], dtype=object)"
            ]
          },
          "metadata": {
            "tags": []
          },
          "execution_count": 11
        }
      ]
    },
    {
      "cell_type": "code",
      "metadata": {
        "colab": {
          "base_uri": "https://localhost:8080/"
        },
        "id": "oArHS18OgxAZ",
        "outputId": "8e3dcc60-6579-46bd-ba3f-467dde286402"
      },
      "source": [
        "#Vaxcine\n",
        "vax_data.VAX_DOSE_SERIES.unique()"
      ],
      "execution_count": null,
      "outputs": [
        {
          "output_type": "execute_result",
          "data": {
            "text/plain": [
              "array([1, 3, 2, 5, 4])"
            ]
          },
          "metadata": {
            "tags": []
          },
          "execution_count": 12
        }
      ]
    },
    {
      "cell_type": "code",
      "metadata": {
        "colab": {
          "base_uri": "https://localhost:8080/"
        },
        "id": "lS_k38fv8TDG",
        "outputId": "1cb5392b-7422-47a2-9da5-ae7694b783ae"
      },
      "source": [
        "#unique values in each column\n",
        "vax_data.nunique()"
      ],
      "execution_count": null,
      "outputs": [
        {
          "output_type": "execute_result",
          "data": {
            "text/plain": [
              "VAERS_ID           4716\n",
              "STATE                54\n",
              "AGE_YRS              93\n",
              "SEX                   2\n",
              "DIED                  2\n",
              "L_THREAT              2\n",
              "RECOVD                2\n",
              "V_ADMINBY             9\n",
              "VAX_MANU              2\n",
              "VAX_DOSE_SERIES       5\n",
              "VAX_ROUTE             7\n",
              "VAX_SITE              9\n",
              "VAX_NAME              2\n",
              "Symptom 1           596\n",
              "Symptom 2           676\n",
              "Symptom 3           659\n",
              "Symptom 4           617\n",
              "Symptom 5           575\n",
              "dtype: int64"
            ]
          },
          "metadata": {
            "tags": []
          },
          "execution_count": 13
        }
      ]
    },
    {
      "cell_type": "markdown",
      "metadata": {
        "id": "4Xv0XS8dy6TT"
      },
      "source": []
    },
    {
      "cell_type": "code",
      "metadata": {
        "colab": {
          "base_uri": "https://localhost:8080/"
        },
        "id": "hggJ5TS_8x1u",
        "outputId": "3592da45-2b68-446b-8595-80f852bfce5a"
      },
      "source": [
        "#Null Values\n",
        "vax_data.isnull().sum()"
      ],
      "execution_count": null,
      "outputs": [
        {
          "output_type": "execute_result",
          "data": {
            "text/plain": [
              "VAERS_ID              0\n",
              "STATE                 0\n",
              "AGE_YRS               0\n",
              "SEX                   0\n",
              "DIED                  0\n",
              "L_THREAT              0\n",
              "RECOVD                0\n",
              "V_ADMINBY             0\n",
              "VAX_MANU              0\n",
              "VAX_DOSE_SERIES       0\n",
              "VAX_ROUTE             0\n",
              "VAX_SITE              0\n",
              "VAX_NAME              0\n",
              "Symptom 1             0\n",
              "Symptom 2           549\n",
              "Symptom 3          1163\n",
              "Symptom 4          1762\n",
              "Symptom 5          2332\n",
              "dtype: int64"
            ]
          },
          "metadata": {
            "tags": []
          },
          "execution_count": 14
        }
      ]
    },
    {
      "cell_type": "code",
      "metadata": {
        "id": "0l5BGT7GBiu9"
      },
      "source": [
        "# sns.stripplot(vax_data.index, vax_data.SEX)"
      ],
      "execution_count": null,
      "outputs": []
    },
    {
      "cell_type": "markdown",
      "metadata": {
        "id": "NWJgUiOdJ1AF"
      },
      "source": [
        "#Data Modification -> From String to Integer Values"
      ]
    },
    {
      "cell_type": "code",
      "metadata": {
        "colab": {
          "base_uri": "https://localhost:8080/"
        },
        "id": "_kUT1Bb6pofc",
        "outputId": "6ac17274-7b57-412d-f07a-666be8175f5c"
      },
      "source": [
        "def convert_to_int(arr):\n",
        "  count = 1\n",
        "  for i in arr:\n",
        "    if i is None:\n",
        "      print('\"'+i+'\":'+str(count)+',', end = '')\n",
        "    else:\n",
        "      print('\"'+i+'\":'+str(count)+',', end = '')\n",
        "    count = count+1\n",
        "\n",
        "convert_to_int(vax_data['STATE'].unique())"
      ],
      "execution_count": null,
      "outputs": [
        {
          "output_type": "stream",
          "text": [
            "\"TX\":1,\"CA\":2,\"NV\":3,\"OH\":4,\"TN\":5,\"VA\":6,\"NC\":7,\"NY\":8,\"GA\":9,\"NJ\":10,\"LA\":11,\"IL\":12,\"MD\":13,\"ME\":14,\"MA\":15,\"MI\":16,\"CT\":17,\"FL\":18,\"OK\":19,\"AR\":20,\"ID\":21,\"IN\":22,\"PA\":23,\"AZ\":24,\"MN\":25,\"MO\":26,\"CO\":27,\"UT\":28,\"na\":29,\"AL\":30,\"NE\":31,\"RI\":32,\"MS\":33,\"IA\":34,\"KS\":35,\"MT\":36,\"WI\":37,\"OR\":38,\"PR\":39,\"WV\":40,\"WA\":41,\"ND\":42,\"SC\":43,\"VT\":44,\"NM\":45,\"KY\":46,\"SD\":47,\"HI\":48,\"NH\":49,\"WY\":50,\"AK\":51,\"DE\":52,\"DC\":53,\"GU\":54,"
          ],
          "name": "stdout"
        }
      ]
    },
    {
      "cell_type": "code",
      "metadata": {
        "colab": {
          "base_uri": "https://localhost:8080/",
          "height": 400
        },
        "id": "iMMBqqXvyX8T",
        "outputId": "bde52b17-5256-4ae0-a462-2eb725b7976b"
      },
      "source": [
        "vax_data.head()"
      ],
      "execution_count": null,
      "outputs": [
        {
          "output_type": "execute_result",
          "data": {
            "text/html": [
              "<div>\n",
              "<style scoped>\n",
              "    .dataframe tbody tr th:only-of-type {\n",
              "        vertical-align: middle;\n",
              "    }\n",
              "\n",
              "    .dataframe tbody tr th {\n",
              "        vertical-align: top;\n",
              "    }\n",
              "\n",
              "    .dataframe thead th {\n",
              "        text-align: right;\n",
              "    }\n",
              "</style>\n",
              "<table border=\"1\" class=\"dataframe\">\n",
              "  <thead>\n",
              "    <tr style=\"text-align: right;\">\n",
              "      <th></th>\n",
              "      <th>VAERS_ID</th>\n",
              "      <th>STATE</th>\n",
              "      <th>AGE_YRS</th>\n",
              "      <th>SEX</th>\n",
              "      <th>DIED</th>\n",
              "      <th>L_THREAT</th>\n",
              "      <th>RECOVD</th>\n",
              "      <th>V_ADMINBY</th>\n",
              "      <th>VAX_MANU</th>\n",
              "      <th>VAX_DOSE_SERIES</th>\n",
              "      <th>VAX_ROUTE</th>\n",
              "      <th>VAX_SITE</th>\n",
              "      <th>VAX_NAME</th>\n",
              "      <th>Symptom 1</th>\n",
              "      <th>Symptom 2</th>\n",
              "      <th>Symptom 3</th>\n",
              "      <th>Symptom 4</th>\n",
              "      <th>Symptom 5</th>\n",
              "    </tr>\n",
              "  </thead>\n",
              "  <tbody>\n",
              "    <tr>\n",
              "      <th>0</th>\n",
              "      <td>916600</td>\n",
              "      <td>TX</td>\n",
              "      <td>33.0</td>\n",
              "      <td>F</td>\n",
              "      <td>N</td>\n",
              "      <td>N</td>\n",
              "      <td>Y</td>\n",
              "      <td>PVT</td>\n",
              "      <td>MODERNA</td>\n",
              "      <td>1</td>\n",
              "      <td>IM</td>\n",
              "      <td>LA</td>\n",
              "      <td>COVID19 (COVID19 (MODERNA))</td>\n",
              "      <td>Dysphagia</td>\n",
              "      <td>Epiglottitis</td>\n",
              "      <td>NaN</td>\n",
              "      <td>NaN</td>\n",
              "      <td>NaN</td>\n",
              "    </tr>\n",
              "    <tr>\n",
              "      <th>1</th>\n",
              "      <td>916601</td>\n",
              "      <td>CA</td>\n",
              "      <td>73.0</td>\n",
              "      <td>F</td>\n",
              "      <td>N</td>\n",
              "      <td>N</td>\n",
              "      <td>Y</td>\n",
              "      <td>SEN</td>\n",
              "      <td>MODERNA</td>\n",
              "      <td>1</td>\n",
              "      <td>IM</td>\n",
              "      <td>RA</td>\n",
              "      <td>COVID19 (COVID19 (MODERNA))</td>\n",
              "      <td>Anxiety</td>\n",
              "      <td>Dyspnoea</td>\n",
              "      <td>NaN</td>\n",
              "      <td>NaN</td>\n",
              "      <td>NaN</td>\n",
              "    </tr>\n",
              "    <tr>\n",
              "      <th>2</th>\n",
              "      <td>916604</td>\n",
              "      <td>TX</td>\n",
              "      <td>47.0</td>\n",
              "      <td>F</td>\n",
              "      <td>N</td>\n",
              "      <td>N</td>\n",
              "      <td>N</td>\n",
              "      <td>PUB</td>\n",
              "      <td>MODERNA</td>\n",
              "      <td>1</td>\n",
              "      <td>IM</td>\n",
              "      <td>LA</td>\n",
              "      <td>COVID19 (COVID19 (MODERNA))</td>\n",
              "      <td>Injection site erythema</td>\n",
              "      <td>Injection site pruritus</td>\n",
              "      <td>Injection site swelling</td>\n",
              "      <td>Injection site warmth</td>\n",
              "      <td>NaN</td>\n",
              "    </tr>\n",
              "    <tr>\n",
              "      <th>3</th>\n",
              "      <td>916606</td>\n",
              "      <td>NV</td>\n",
              "      <td>44.0</td>\n",
              "      <td>F</td>\n",
              "      <td>N</td>\n",
              "      <td>N</td>\n",
              "      <td>Y</td>\n",
              "      <td>PVT</td>\n",
              "      <td>MODERNA</td>\n",
              "      <td>1</td>\n",
              "      <td>IM</td>\n",
              "      <td>LA</td>\n",
              "      <td>COVID19 (COVID19 (MODERNA))</td>\n",
              "      <td>Pharyngeal swelling</td>\n",
              "      <td>NaN</td>\n",
              "      <td>NaN</td>\n",
              "      <td>NaN</td>\n",
              "      <td>NaN</td>\n",
              "    </tr>\n",
              "    <tr>\n",
              "      <th>4</th>\n",
              "      <td>916608</td>\n",
              "      <td>OH</td>\n",
              "      <td>33.0</td>\n",
              "      <td>M</td>\n",
              "      <td>N</td>\n",
              "      <td>N</td>\n",
              "      <td>N</td>\n",
              "      <td>OTH</td>\n",
              "      <td>MODERNA</td>\n",
              "      <td>1</td>\n",
              "      <td>IM</td>\n",
              "      <td>LA</td>\n",
              "      <td>COVID19 (COVID19 (MODERNA))</td>\n",
              "      <td>Diarrhoea</td>\n",
              "      <td>Nasal congestion</td>\n",
              "      <td>NaN</td>\n",
              "      <td>NaN</td>\n",
              "      <td>NaN</td>\n",
              "    </tr>\n",
              "  </tbody>\n",
              "</table>\n",
              "</div>"
            ],
            "text/plain": [
              "   VAERS_ID STATE  ...              Symptom 4 Symptom 5\n",
              "0    916600    TX  ...                    NaN       NaN\n",
              "1    916601    CA  ...                    NaN       NaN\n",
              "2    916604    TX  ...  Injection site warmth       NaN\n",
              "3    916606    NV  ...                    NaN       NaN\n",
              "4    916608    OH  ...                    NaN       NaN\n",
              "\n",
              "[5 rows x 18 columns]"
            ]
          },
          "metadata": {
            "tags": []
          },
          "execution_count": 17
        }
      ]
    },
    {
      "cell_type": "code",
      "metadata": {
        "id": "Y0JfnJRBx03g"
      },
      "source": [
        "# Converting Symptoms (Str -> Num)\n",
        "symptoms = np.array(np.concatenate((vax_data['Symptom 1'].unique(), vax_data['Symptom 2'].unique(), vax_data['Symptom 3'].unique(), vax_data['Symptom 4'].unique(), vax_data['Symptom 5'].unique())))\n",
        "# len(symptoms) #len: 3127\n",
        "\n",
        "# symp = list(set(symptoms))\n",
        "# # len(symp) #1493\n",
        "# avi = sorted(symptoms)\n",
        "# avi\n",
        "# convert_to_int(np.array(symp))\n"
      ],
      "execution_count": null,
      "outputs": []
    },
    {
      "cell_type": "code",
      "metadata": {
        "id": "wB6GPq3Qyi7P"
      },
      "source": [
        "# errorcode(vaxdat);"
      ],
      "execution_count": null,
      "outputs": []
    },
    {
      "cell_type": "code",
      "metadata": {
        "id": "KZ8QDL18quCo",
        "colab": {
          "base_uri": "https://localhost:8080/"
        },
        "outputId": "391a177a-ddd0-46b4-f9d3-b4a5b6bf36ef"
      },
      "source": [
        "vax_data.AGE_YRS.unique()"
      ],
      "execution_count": null,
      "outputs": [
        {
          "output_type": "execute_result",
          "data": {
            "text/plain": [
              "array([ 33.  ,  73.  ,  47.  ,  44.  ,  71.  ,  18.  ,  29.  ,  38.  ,\n",
              "        35.  ,  24.  ,  28.  ,  65.  ,  25.  ,  31.  ,  41.  ,  63.  ,\n",
              "        61.  ,  56.  ,  57.  ,  27.  ,  22.  ,  49.  ,  32.  ,  46.  ,\n",
              "        42.  ,  58.  ,  60.  ,  37.  ,  53.  ,  59.  ,  39.  ,  26.  ,\n",
              "        20.  ,  51.  ,  52.  ,  40.  ,  36.  ,  69.  ,  34.  ,  64.  ,\n",
              "        50.  ,  43.  ,  23.  ,  48.  ,  30.  ,  45.  ,  68.  ,  54.  ,\n",
              "        21.  ,  88.  ,  67.  ,  55.  ,  78.  ,  62.  ,  66.  ,  82.  ,\n",
              "        19.  ,  74.  ,  70.  ,  92.  ,  76.  ,  72.  ,  97.  ,  84.  ,\n",
              "        81.  ,  77.  ,  93.  ,  85.  ,  83.  ,  87.  ,  80.  ,  75.  ,\n",
              "        90.  ,  91.  ,  79.  ,  89.  ,  94.  ,   0.33,   0.5 ,   0.25,\n",
              "       103.  ,  17.  ,  96.  ,  86.  ,  16.  ,   1.08,  95.  ,  98.  ,\n",
              "        99.  , 101.  , 100.  , 105.  , 102.  ])"
            ]
          },
          "metadata": {
            "tags": []
          },
          "execution_count": 20
        }
      ]
    },
    {
      "cell_type": "code",
      "metadata": {
        "id": "OZ1khUvAofUi"
      },
      "source": [
        "#State Values Convertion\n",
        "vax_data['STATE'] = vax_data['STATE'].map({\"TX\":1,\"CA\":2,\"NV\":3,\"OH\":4,\"TN\":5,\"VA\":6,\"NC\":7,\"NY\":8,\"GA\":9,\"NJ\":10,\"LA\":11,\"IL\":12,\"MD\":13,\"ME\":14,\"MA\":15,\"MI\":16,\"CT\":17,\"FL\":18,\"OK\":19,\"AR\":20,\"ID\":21,\"IN\":22,\"PA\":23,\"AZ\":24,\"MN\":25,\"MO\":26,\"CO\":27,\"UT\":28,\"na\":29,\"AL\":30,\"NE\":31,\"RI\":32,\"MS\":33,\"IA\":34,\"KS\":35,\"MT\":36,\"WI\":37,\"OR\":38,\"PR\":39,\"WV\":40,\"WA\":41,\"ND\":42,\"SC\":43,\"VT\":44,\"NM\":45,\"KY\":46,\"SD\":47,\"HI\":48,\"NH\":49,\"WY\":50,\"AK\":51,\"DE\":52,\"DC\":53,\"GU\":54})"
      ],
      "execution_count": null,
      "outputs": []
    },
    {
      "cell_type": "code",
      "metadata": {
        "id": "_MUNqMCrLECC"
      },
      "source": [
        "#DIED Status -> N -- 0, Y -- 1\n",
        "vax_data['DIED'] = vax_data['DIED'].map({'N':0, 'Y':1})"
      ],
      "execution_count": null,
      "outputs": []
    },
    {
      "cell_type": "code",
      "metadata": {
        "id": "SbPY6mC1LpzF"
      },
      "source": [
        "#Vaccine Name Mapping -> Moderna -- 1, Pfizer-Biontech -- 2\n",
        "#vax_data['VAX_NAME'].unique()\n",
        "vax_data['VAX_NAME'] = vax_data['VAX_NAME'].map({'COVID19 (COVID19 (MODERNA))':1, 'COVID19 (COVID19 (PFIZER-BIONTECH))':2})"
      ],
      "execution_count": null,
      "outputs": []
    },
    {
      "cell_type": "code",
      "metadata": {
        "id": "bqOdxxMCMarP"
      },
      "source": [
        "#Life Threat Status -> N -- 0, Y -- 1\n",
        "vax_data['L_THREAT'] = vax_data['L_THREAT'].map({'N':0, 'Y':1})"
      ],
      "execution_count": null,
      "outputs": []
    },
    {
      "cell_type": "code",
      "metadata": {
        "id": "7afzcEcCM3Ty"
      },
      "source": [
        "#Recovery Status -> N -- 0, Y -- 1\n",
        "vax_data['RECOVD'] = vax_data['RECOVD'].map({'N':0, 'Y':1})"
      ],
      "execution_count": null,
      "outputs": []
    },
    {
      "cell_type": "code",
      "metadata": {
        "id": "HxXQFzqomsi8"
      },
      "source": [
        "#Age Group Classification\n",
        "##Children -> 0-12\n",
        "##Adolescence -> 13-18\n",
        "##Adult-Young -> 19-30\n",
        "##Adult-Mid -> 31-59\n",
        "##Adult-Senior -> 60 above\n",
        "def age_to_age_group(i):\n",
        "    if(i<=12):\n",
        "      return 'child'\n",
        "    if(i>12 and i<=18):\n",
        "      return 'adolescence'\n",
        "    if(i>18 and i<=30):\n",
        "      return 'young_adult'\n",
        "    if(i>30 and i<=59):\n",
        "      return 'mid_adult'\n",
        "    if(i>59):\n",
        "       return \"senior_adult\"\n",
        "\n",
        "vax_data['AGE_GROUP'] =vax_data.AGE_YRS.apply(age_to_age_group)\n",
        "# vax_data.drop(['mid_adult', 'seinor_adult', 'adolescence'\t, 'young_adult', 'child'], axis=1, inplace=True)\n",
        "# vax_data\n"
      ],
      "execution_count": null,
      "outputs": []
    },
    {
      "cell_type": "code",
      "metadata": {
        "id": "fQPdIsjPwCPU",
        "colab": {
          "base_uri": "https://localhost:8080/",
          "height": 235
        },
        "outputId": "05e01609-4caa-459b-83c5-861bc0ae9bcc"
      },
      "source": [
        "sns.catplot(x=\"VAX_MANU\", y=\"L_THREAT\", hue=\"SEX\", col=\"AGE_GROUP\", data=vax_data, kind=\"bar\");"
      ],
      "execution_count": null,
      "outputs": [
        {
          "output_type": "display_data",
          "data": {
            "image/png": "[encoded data removed]",
            "text/plain": [
              "<Figure size 1849.1x360 with 5 Axes>"
            ]
          },
          "metadata": {
            "tags": []
          }
        }
      ]
    },
    {
      "cell_type": "code",
      "metadata": {
        "id": "_hZRjmnewegP",
        "colab": {
          "base_uri": "https://localhost:8080/"
        },
        "outputId": "2d8fe631-d8f6-43ae-9626-f736bd5b412a"
      },
      "source": [
        "# vax_data.AGE_GROUP.unique()\n",
        "vax_data.pivot_table(index=['AGE_GROUP'], aggfunc='size')"
      ],
      "execution_count": null,
      "outputs": [
        {
          "output_type": "execute_result",
          "data": {
            "text/plain": [
              "AGE_GROUP\n",
              "adolescence       14\n",
              "child              4\n",
              "mid_adult       2518\n",
              "senior_adult    1563\n",
              "young_adult      617\n",
              "dtype: int64"
            ]
          },
          "metadata": {
            "tags": []
          },
          "execution_count": 28
        }
      ]
    },
    {
      "cell_type": "code",
      "metadata": {
        "id": "5R_d-bTtvUY7"
      },
      "source": [
        "#Age Group Convertion\n",
        "vax_data['AGE_GROUP'] = vax_data['AGE_GROUP'].map({'child': 1, 'adolescence': 2, 'young_adult': 3, 'mid_adult': 4, \"seinor_adult\": 5})"
      ],
      "execution_count": null,
      "outputs": []
    },
    {
      "cell_type": "code",
      "metadata": {
        "id": "lRR_LVgmHvEy",
        "colab": {
          "base_uri": "https://localhost:8080/",
          "height": 399
        },
        "outputId": "97f462e5-881b-4a5e-aec7-c86bd533042c"
      },
      "source": [
        "sns.lmplot(x='VAX_SITE', y='DIED', data=vax_data, fit_reg=False)"
      ],
      "execution_count": null,
      "outputs": [
        {
          "output_type": "execute_result",
          "data": {
            "text/plain": [
              "<seaborn.axisgrid.FacetGrid at 0x7f8900442e50>"
            ]
          },
          "metadata": {
            "tags": []
          },
          "execution_count": 30
        },
        {
          "output_type": "display_data",
          "data": {
            "image/png": "[encoded data removed]",
            "text/plain": [
              "<Figure size 360x360 with 1 Axes>"
            ]
          },
          "metadata": {
            "tags": []
          }
        }
      ]
    },
    {
      "cell_type": "code",
      "metadata": {
        "id": "n2wGRqlFFsVG",
        "colab": {
          "base_uri": "https://localhost:8080/",
          "height": 382
        },
        "outputId": "97fb56a6-219f-46a6-fd8a-dc4d6b1f0bbf"
      },
      "source": [
        "# sns.lmplot(x='STATE', y='DIED', data=vax_data, fit_reg=False)\n",
        "\n",
        "# sns.lmplot(x='VAX_MANU', y='VAX_DOSE_SERIES', data=vax_data,\n",
        "#            fit_reg=False)\n",
        "sns.catplot(x=\"VAX_MANU\", y=\"L_THREAT\", hue=\"SEX\", col=\"RECOVD\", data=vax_data, kind=\"bar\");"
      ],
      "execution_count": null,
      "outputs": [
        {
          "output_type": "display_data",
          "data": {
            "image/png": "[encoded data removed]",
            "text/plain": [
              "<Figure size 769.1x360 with 2 Axes>"
            ]
          },
          "metadata": {
            "tags": []
          }
        }
      ]
    },
    {
      "cell_type": "code",
      "metadata": {
        "id": "YdE-0GaccMlY",
        "colab": {
          "base_uri": "https://localhost:8080/",
          "height": 355
        },
        "outputId": "b124ed07-0f02-4d8b-a3b3-aaf40fa6099b"
      },
      "source": [
        "# sns.lmplot(x='Symptom 1', y='L_THREAT', data=vax_data, fit_reg=False)\n",
        "sns.kdeplot(vax_data.DIED, vax_data.AGE_YRS)"
      ],
      "execution_count": null,
      "outputs": [
        {
          "output_type": "stream",
          "text": [
            "/usr/local/lib/python3.7/dist-packages/seaborn/_decorators.py:43: FutureWarning: Pass the following variable as a keyword arg: y. From version 0.12, the only valid positional argument will be `data`, and passing other arguments without an explicit keyword will result in an error or misinterpretation.\n",
            "  FutureWarning\n"
          ],
          "name": "stderr"
        },
        {
          "output_type": "execute_result",
          "data": {
            "text/plain": [
              "<matplotlib.axes._subplots.AxesSubplot at 0x7f890034e490>"
            ]
          },
          "metadata": {
            "tags": []
          },
          "execution_count": 32
        },
        {
          "output_type": "display_data",
          "data": {
            "image/png": "[encoded data removed]",
            "text/plain": [
              "<Figure size 432x288 with 1 Axes>"
            ]
          },
          "metadata": {
            "tags": []
          }
        }
      ]
    },
    {
      "cell_type": "code",
      "metadata": {
        "id": "ss-unW57JbJd",
        "colab": {
          "base_uri": "https://localhost:8080/",
          "height": 302
        },
        "outputId": "38d37704-5d65-4899-ce27-2152972b4229"
      },
      "source": [
        "# sns.swarmplot(x='L_THREAT', y='AGE_YRS', data=vax_data)\n",
        "sns.countplot(x=\"VAX_MANU\",hue=\"L_THREAT\",data=vax_data)"
      ],
      "execution_count": null,
      "outputs": [
        {
          "output_type": "execute_result",
          "data": {
            "text/plain": [
              "<matplotlib.axes._subplots.AxesSubplot at 0x7f88fe046650>"
            ]
          },
          "metadata": {
            "tags": []
          },
          "execution_count": 33
        },
        {
          "output_type": "display_data",
          "data": {
            "image/png": "[encoded data removed]",
            "text/plain": [
              "<Figure size 432x288 with 1 Axes>"
            ]
          },
          "metadata": {
            "tags": []
          }
        }
      ]
    },
    {
      "cell_type": "code",
      "metadata": {
        "id": "SuuQ6V8XJ8NQ"
      },
      "source": [
        "#SEX Convertion -> M -- 1, F -- 0\n",
        "vax_data['SEX'] = vax_data['SEX'].map({'F': 0, 'M': 1})"
      ],
      "execution_count": null,
      "outputs": []
    },
    {
      "cell_type": "markdown",
      "metadata": {
        "id": "O5WTEx0HQAJI"
      },
      "source": [
        "##Dropping Unwanted Columns"
      ]
    },
    {
      "cell_type": "code",
      "metadata": {
        "id": "X01yz_Y-NLdT"
      },
      "source": [
        "vax_data.drop('V_ADMINBY', axis=1, inplace=True)"
      ],
      "execution_count": null,
      "outputs": []
    },
    {
      "cell_type": "code",
      "metadata": {
        "id": "r1cLGsiwQMiO"
      },
      "source": [
        "vax_data.drop('VAX_MANU', axis=1, inplace=True)"
      ],
      "execution_count": null,
      "outputs": []
    },
    {
      "cell_type": "code",
      "metadata": {
        "id": "kiActjwrQc4x"
      },
      "source": [
        "#Dropping the Symptoms, Only 50% Implemented with out using Symptoms Data\n",
        "vax_data.drop(['Symptom 1', 'Symptom 2', 'Symptom 3', 'Symptom 4', 'Symptom 5'], axis=1, inplace=True)"
      ],
      "execution_count": null,
      "outputs": []
    },
    {
      "cell_type": "code",
      "metadata": {
        "id": "8wTBcD4aTcVY",
        "colab": {
          "base_uri": "https://localhost:8080/"
        },
        "outputId": "94308ff5-d89d-465f-9b93-a2ccfd9e8a84"
      },
      "source": [
        "vax_data.VAX_SITE.unique()"
      ],
      "execution_count": null,
      "outputs": [
        {
          "output_type": "execute_result",
          "data": {
            "text/plain": [
              "array(['LA', 'RA', 'AR', 'UN', 'GM', 'OT', 'RL', 'LG', 'LL'], dtype=object)"
            ]
          },
          "metadata": {
            "tags": []
          },
          "execution_count": 38
        }
      ]
    },
    {
      "cell_type": "code",
      "metadata": {
        "id": "A6F7ML42N7hY"
      },
      "source": [
        "vax_data.VAX_SITE = vax_data.VAX_SITE.map({'LA':1, 'RA':2, 'AR':3, 'UN':4, 'GM':5, 'OT':6, 'RL':7, 'LG':8, 'LL':9})"
      ],
      "execution_count": null,
      "outputs": []
    },
    {
      "cell_type": "code",
      "metadata": {
        "id": "YfU_7eu4SiWb",
        "colab": {
          "base_uri": "https://localhost:8080/"
        },
        "outputId": "74c1bbcd-2696-473e-930e-0a927bcafc88"
      },
      "source": [
        "vax_data.VAX_ROUTE.unique()"
      ],
      "execution_count": null,
      "outputs": [
        {
          "output_type": "execute_result",
          "data": {
            "text/plain": [
              "array(['IM', 'SYR', 'JET', 'UN', 'SC', 'OT', 'ID'], dtype=object)"
            ]
          },
          "metadata": {
            "tags": []
          },
          "execution_count": 40
        }
      ]
    },
    {
      "cell_type": "code",
      "metadata": {
        "id": "iPkuH8kRSZH_"
      },
      "source": [
        "vax_data.VAX_ROUTE = vax_data.VAX_ROUTE.map({'IM':1, 'SYR':2, 'JET':3, 'ID':4, 'SC':5, 'OT':6, 'UN':7})"
      ],
      "execution_count": null,
      "outputs": []
    },
    {
      "cell_type": "code",
      "metadata": {
        "id": "n1SDU0CEXEth",
        "colab": {
          "base_uri": "https://localhost:8080/",
          "height": 195
        },
        "outputId": "4c41ff99-5173-4a07-a03b-e3214446edaa"
      },
      "source": [
        "vax_data.head()"
      ],
      "execution_count": null,
      "outputs": [
        {
          "output_type": "execute_result",
          "data": {
            "text/html": [
              "<div>\n",
              "<style scoped>\n",
              "    .dataframe tbody tr th:only-of-type {\n",
              "        vertical-align: middle;\n",
              "    }\n",
              "\n",
              "    .dataframe tbody tr th {\n",
              "        vertical-align: top;\n",
              "    }\n",
              "\n",
              "    .dataframe thead th {\n",
              "        text-align: right;\n",
              "    }\n",
              "</style>\n",
              "<table border=\"1\" class=\"dataframe\">\n",
              "  <thead>\n",
              "    <tr style=\"text-align: right;\">\n",
              "      <th></th>\n",
              "      <th>VAERS_ID</th>\n",
              "      <th>STATE</th>\n",
              "      <th>AGE_YRS</th>\n",
              "      <th>SEX</th>\n",
              "      <th>DIED</th>\n",
              "      <th>L_THREAT</th>\n",
              "      <th>RECOVD</th>\n",
              "      <th>VAX_DOSE_SERIES</th>\n",
              "      <th>VAX_ROUTE</th>\n",
              "      <th>VAX_SITE</th>\n",
              "      <th>VAX_NAME</th>\n",
              "      <th>AGE_GROUP</th>\n",
              "    </tr>\n",
              "  </thead>\n",
              "  <tbody>\n",
              "    <tr>\n",
              "      <th>0</th>\n",
              "      <td>916600</td>\n",
              "      <td>1</td>\n",
              "      <td>33.0</td>\n",
              "      <td>0</td>\n",
              "      <td>0</td>\n",
              "      <td>0</td>\n",
              "      <td>1</td>\n",
              "      <td>1</td>\n",
              "      <td>1</td>\n",
              "      <td>1</td>\n",
              "      <td>1</td>\n",
              "      <td>4.0</td>\n",
              "    </tr>\n",
              "    <tr>\n",
              "      <th>1</th>\n",
              "      <td>916601</td>\n",
              "      <td>2</td>\n",
              "      <td>73.0</td>\n",
              "      <td>0</td>\n",
              "      <td>0</td>\n",
              "      <td>0</td>\n",
              "      <td>1</td>\n",
              "      <td>1</td>\n",
              "      <td>1</td>\n",
              "      <td>2</td>\n",
              "      <td>1</td>\n",
              "      <td>NaN</td>\n",
              "    </tr>\n",
              "    <tr>\n",
              "      <th>2</th>\n",
              "      <td>916604</td>\n",
              "      <td>1</td>\n",
              "      <td>47.0</td>\n",
              "      <td>0</td>\n",
              "      <td>0</td>\n",
              "      <td>0</td>\n",
              "      <td>0</td>\n",
              "      <td>1</td>\n",
              "      <td>1</td>\n",
              "      <td>1</td>\n",
              "      <td>1</td>\n",
              "      <td>4.0</td>\n",
              "    </tr>\n",
              "    <tr>\n",
              "      <th>3</th>\n",
              "      <td>916606</td>\n",
              "      <td>3</td>\n",
              "      <td>44.0</td>\n",
              "      <td>0</td>\n",
              "      <td>0</td>\n",
              "      <td>0</td>\n",
              "      <td>1</td>\n",
              "      <td>1</td>\n",
              "      <td>1</td>\n",
              "      <td>1</td>\n",
              "      <td>1</td>\n",
              "      <td>4.0</td>\n",
              "    </tr>\n",
              "    <tr>\n",
              "      <th>4</th>\n",
              "      <td>916608</td>\n",
              "      <td>4</td>\n",
              "      <td>33.0</td>\n",
              "      <td>1</td>\n",
              "      <td>0</td>\n",
              "      <td>0</td>\n",
              "      <td>0</td>\n",
              "      <td>1</td>\n",
              "      <td>1</td>\n",
              "      <td>1</td>\n",
              "      <td>1</td>\n",
              "      <td>4.0</td>\n",
              "    </tr>\n",
              "  </tbody>\n",
              "</table>\n",
              "</div>"
            ],
            "text/plain": [
              "   VAERS_ID  STATE  AGE_YRS  SEX  ...  VAX_ROUTE  VAX_SITE  VAX_NAME  AGE_GROUP\n",
              "0    916600      1     33.0    0  ...          1         1         1        4.0\n",
              "1    916601      2     73.0    0  ...          1         2         1        NaN\n",
              "2    916604      1     47.0    0  ...          1         1         1        4.0\n",
              "3    916606      3     44.0    0  ...          1         1         1        4.0\n",
              "4    916608      4     33.0    1  ...          1         1         1        4.0\n",
              "\n",
              "[5 rows x 12 columns]"
            ]
          },
          "metadata": {
            "tags": []
          },
          "execution_count": 42
        }
      ]
    },
    {
      "cell_type": "code",
      "metadata": {
        "id": "J_tJCJDWa-qH",
        "colab": {
          "base_uri": "https://localhost:8080/"
        },
        "outputId": "f96d0a81-71e0-4951-e8e6-e5c58565b096"
      },
      "source": [
        "vax_data.info()"
      ],
      "execution_count": null,
      "outputs": [
        {
          "output_type": "stream",
          "text": [
            "<class 'pandas.core.frame.DataFrame'>\n",
            "RangeIndex: 4716 entries, 0 to 4715\n",
            "Data columns (total 12 columns):\n",
            " #   Column           Non-Null Count  Dtype  \n",
            "---  ------           --------------  -----  \n",
            " 0   VAERS_ID         4716 non-null   int64  \n",
            " 1   STATE            4716 non-null   int64  \n",
            " 2   AGE_YRS          4716 non-null   float64\n",
            " 3   SEX              4716 non-null   int64  \n",
            " 4   DIED             4716 non-null   int64  \n",
            " 5   L_THREAT         4716 non-null   int64  \n",
            " 6   RECOVD           4716 non-null   int64  \n",
            " 7   VAX_DOSE_SERIES  4716 non-null   int64  \n",
            " 8   VAX_ROUTE        4716 non-null   int64  \n",
            " 9   VAX_SITE         4716 non-null   int64  \n",
            " 10  VAX_NAME         4716 non-null   int64  \n",
            " 11  AGE_GROUP        3153 non-null   float64\n",
            "dtypes: float64(2), int64(10)\n",
            "memory usage: 442.2 KB\n"
          ],
          "name": "stdout"
        }
      ]
    },
    {
      "cell_type": "markdown",
      "metadata": {
        "id": "nyWAFNLrCd4V"
      },
      "source": [
        "#Machine Learning Model"
      ]
    },
    {
      "cell_type": "code",
      "metadata": {
        "id": "fbcCQAcLf6Os"
      },
      "source": [
        "from sklearn.model_selection import train_test_split\n",
        "from sklearn.linear_model import LogisticRegression\n",
        "from sklearn.metrics import classification_report\n",
        "from sklearn.tree import DecisionTreeClassifier\n",
        "from sklearn.metrics import accuracy_score\n",
        "from sklearn import tree\n",
        "\n",
        "X = vax_data.drop(columns=['VAERS_ID', 'AGE_GROUP', 'DIED', 'L_THREAT'])\n",
        "y = vax_data['DIED']\n",
        "X_train, X_test, y_train, y_test = train_test_split(X, y, test_size=0.1, random_state=1)\n",
        "# logReg = LogisticRegression()"
      ],
      "execution_count": null,
      "outputs": []
    },
    {
      "cell_type": "markdown",
      "metadata": {
        "id": "PPxByA5qDrvw"
      },
      "source": [
        "###ML using Decision Tree Classifier"
      ]
    },
    {
      "cell_type": "code",
      "metadata": {
        "id": "g7i-63fTDpsD",
        "colab": {
          "base_uri": "https://localhost:8080/"
        },
        "outputId": "b2fca1ca-a1c4-4173-e9e1-4559fa3ab616"
      },
      "source": [
        "model = DecisionTreeClassifier()\n",
        "model.fit(X, y)\n",
        "\n",
        "Dession_Tree_Predictions = model.predict(X_test)\n",
        "\n",
        "Dession_Tree_Predictions_Score = accuracy_score(y_test, Dession_Tree_Predictions)*100\n",
        "\n",
        "Dession_Tree_Predictions_Score"
      ],
      "execution_count": null,
      "outputs": [
        {
          "output_type": "execute_result",
          "data": {
            "text/plain": [
              "99.15254237288136"
            ]
          },
          "metadata": {
            "tags": []
          },
          "execution_count": 45
        }
      ]
    },
    {
      "cell_type": "code",
      "metadata": {
        "id": "R98GpcA1vf7z"
      },
      "source": [
        "# predictions = model.predict([[1, 30, 1, 0, 1, 1, 1, 2, 1], [1, 30, 1, 1, 0, 1, 1, 2, 1]])\n"
      ],
      "execution_count": null,
      "outputs": []
    },
    {
      "cell_type": "code",
      "metadata": {
        "id": "yuxaz-kgzba8"
      },
      "source": [
        "#tree.export_graphviz(model, out_file='adverse_effects_predictor.dot', feature_names=['AGE_YRS', 'SEX', 'STATE', 'VAX_NAME', 'VAX_DOSE_SERIES', 'VAX_ROUTE', 'VAX_SITE'])"
      ],
      "execution_count": null,
      "outputs": []
    },
    {
      "cell_type": "markdown",
      "metadata": {
        "id": "QMy0zlNR5rg1"
      },
      "source": [
        "###ML Using Logical Regression"
      ]
    },
    {
      "cell_type": "code",
      "metadata": {
        "id": "msxjLKNk5pI3",
        "colab": {
          "base_uri": "https://localhost:8080/"
        },
        "outputId": "57dc9bf7-484e-4aab-bb2d-cdbf216caf03"
      },
      "source": [
        "logReg = LogisticRegression()\n",
        "logReg.fit(X_train, y_train)\n",
        "logReg_Predictions = logReg.predict(X_test)\n",
        "\n",
        "# logReg_Predictions\n",
        "# classification_report(y_test, logreg.predict(X_test))\n",
        "\n",
        "LogReg_Predictions_Score = accuracy_score(y_test,logReg_Predictions)*100\n",
        "LogReg_Predictions_Score"
      ],
      "execution_count": null,
      "outputs": [
        {
          "output_type": "stream",
          "text": [
            "/usr/local/lib/python3.7/dist-packages/sklearn/linear_model/_logistic.py:940: ConvergenceWarning: lbfgs failed to converge (status=1):\n",
            "STOP: TOTAL NO. of ITERATIONS REACHED LIMIT.\n",
            "\n",
            "Increase the number of iterations (max_iter) or scale the data as shown in:\n",
            "    https://scikit-learn.org/stable/modules/preprocessing.html\n",
            "Please also refer to the documentation for alternative solver options:\n",
            "    https://scikit-learn.org/stable/modules/linear_model.html#logistic-regression\n",
            "  extra_warning_msg=_LOGISTIC_SOLVER_CONVERGENCE_MSG)\n"
          ],
          "name": "stderr"
        },
        {
          "output_type": "execute_result",
          "data": {
            "text/plain": [
              "90.46610169491525"
            ]
          },
          "metadata": {
            "tags": []
          },
          "execution_count": 48
        }
      ]
    },
    {
      "cell_type": "markdown",
      "metadata": {
        "id": "8Ura1Qw_DX0p"
      },
      "source": [
        "###ML Using Random Forest"
      ]
    },
    {
      "cell_type": "code",
      "metadata": {
        "id": "BKH23vRxCrH1",
        "colab": {
          "base_uri": "https://localhost:8080/"
        },
        "outputId": "3a198fe3-b17b-452d-dd40-ac2553348895"
      },
      "source": [
        "from sklearn.ensemble import RandomForestClassifier\n",
        "random_forest = RandomForestClassifier(n_estimators=100)\n",
        "random_forest.fit(X_train, y_train)\n",
        "random_forest_predictions = random_forest.predict(X_test)\n",
        "print(classification_report(y_test, random_forest.predict(X_test)))"
      ],
      "execution_count": null,
      "outputs": [
        {
          "output_type": "stream",
          "text": [
            "              precision    recall  f1-score   support\n",
            "\n",
            "           0       0.93      0.95      0.94       406\n",
            "           1       0.64      0.58      0.61        66\n",
            "\n",
            "    accuracy                           0.90       472\n",
            "   macro avg       0.79      0.76      0.77       472\n",
            "weighted avg       0.89      0.90      0.89       472\n",
            "\n"
          ],
          "name": "stdout"
        }
      ]
    },
    {
      "cell_type": "code",
      "metadata": {
        "id": "HG4xicS8DIqp",
        "colab": {
          "base_uri": "https://localhost:8080/"
        },
        "outputId": "b18129a7-1be3-49ee-a72d-7b0af6b38c8e"
      },
      "source": [
        "Random_Forest_Predictions_Score = accuracy_score(y_test,random_forest_predictions)*100\n",
        "Random_Forest_Predictions_Score"
      ],
      "execution_count": null,
      "outputs": [
        {
          "output_type": "execute_result",
          "data": {
            "text/plain": [
              "89.61864406779661"
            ]
          },
          "metadata": {
            "tags": []
          },
          "execution_count": 50
        }
      ]
    },
    {
      "cell_type": "markdown",
      "metadata": {
        "id": "5xU6dTNxzz-n"
      },
      "source": [
        "#Symptoms Implementation"
      ]
    },
    {
      "cell_type": "code",
      "metadata": {
        "id": "zA4YtXbOz9wK",
        "colab": {
          "base_uri": "https://localhost:8080/"
        },
        "outputId": "5c660f65-1fe9-4d8a-aba0-aba5b51fa917"
      },
      "source": [
        "symp_data = pd.read_excel('/content/drive/MyDrive/VAERS_DATA/VAERS_CANDIDATE-VAXINE-SYMPTOMS-DATA.xlsx')\n",
        "symp_data.shape"
      ],
      "execution_count": null,
      "outputs": [
        {
          "output_type": "execute_result",
          "data": {
            "text/plain": [
              "(4716, 18)"
            ]
          },
          "metadata": {
            "tags": []
          },
          "execution_count": 51
        }
      ]
    },
    {
      "cell_type": "code",
      "metadata": {
        "id": "E3Q7S41_0yex",
        "colab": {
          "base_uri": "https://localhost:8080/"
        },
        "outputId": "e11f638e-015f-44e0-f10d-4bc3d2e54394"
      },
      "source": [
        "symp_data['Symptom 1'].unique()"
      ],
      "execution_count": null,
      "outputs": [
        {
          "output_type": "execute_result",
          "data": {
            "text/plain": [
              "array(['Dysphagia', 'Anxiety', 'Injection site erythema',\n",
              "       'Pharyngeal swelling', 'Diarrhoea', 'Vaccination site erythema',\n",
              "       'Rash', 'Blood pressure decreased', 'Blood pressure increased',\n",
              "       'Chills', 'Injection site pain', 'Arthralgia', 'Erythema', 'Cough',\n",
              "       'Asthenia', 'Headache', 'Back pain', 'Injection site swelling',\n",
              "       'Body temperature increased', 'Flushing', 'Hypoaesthesia oral',\n",
              "       'Plicated tongue', 'Pruritus', 'Burning sensation', 'Anosmia',\n",
              "       'Anaphylactic reaction', 'Feeling cold', 'Chest X-ray normal',\n",
              "       'Axillary pain', 'Injection site cellulitis', 'Myalgia',\n",
              "       'Lymphadenopathy', 'Computerised tomogram normal', 'Fatigue',\n",
              "       'Electrocardiogram abnormal', 'Fall',\n",
              "       'Ophthalmological examination', 'Injection site bruising',\n",
              "       'Urticaria', 'Inflammation', 'Dizziness', 'Feeling hot',\n",
              "       'Tinnitus', 'Axillary mass', 'Injection site reaction',\n",
              "       'Administration site joint movement impairment',\n",
              "       'Amino acid level', 'Chest discomfort', 'Heart rate increased',\n",
              "       'Arrhythmia', 'Dysgeusia', 'Injection site induration',\n",
              "       'Injection site urticaria', 'Chest X-ray abnormal', 'Amylase',\n",
              "       'Condition aggravated', 'Eye pain', 'Nausea',\n",
              "       'Blood pressure systolic abnormal', 'Chest X-ray', 'Priapism',\n",
              "       'Abdominal pain upper', 'Ageusia', 'Eye pruritus', 'Flank pain',\n",
              "       'Hypoaesthesia', 'Injection site pruritus', 'Abdominal distension',\n",
              "       'Paraesthesia oral', 'Blood test', 'Abnormal dreams',\n",
              "       'Blood chloride normal', 'Breast tenderness', 'Pain',\n",
              "       'Feeling abnormal', 'Abdominal discomfort',\n",
              "       'Altered state of consciousness', 'Tachycardia', 'Disorientation',\n",
              "       'Mobility decreased', 'Dyspnoea', 'Injection site dryness',\n",
              "       'Abdominal pain', 'Bronchitis', 'Cellulitis', 'Discomfort',\n",
              "       'Migraine', 'Lip swelling', 'Insomnia', 'Cerebrovascular accident',\n",
              "       'Hyperhidrosis', 'Computerised tomogram', 'Asthenopia',\n",
              "       'Pain in extremity', 'Contusion', 'Decreased appetite',\n",
              "       'Oral pruritus', 'Ear congestion', 'Angiogram normal', 'COVID-19',\n",
              "       'Arthropathy', 'Pyrexia', 'Chest pain', 'Injection site nodule',\n",
              "       'Dry eye', 'Angiogram', 'Unevaluable event',\n",
              "       'Exposure during pregnancy', 'Rash pruritic', 'Lymphadenitis',\n",
              "       'Blood thyroid stimulating hormone normal', 'Dry mouth', 'Blister',\n",
              "       'Injected limb mobility decreased', 'Ear pruritus',\n",
              "       'Lymph node pain', 'Blood creatinine increased',\n",
              "       'No adverse event', 'Muscle spasms', 'Angioedema',\n",
              "       'Blindness unilateral', 'Abortion spontaneous',\n",
              "       'Exposure to SARS-CoV-2', 'Rash erythematous', 'Paraesthesia',\n",
              "       'Blood test normal', 'Product monitoring error',\n",
              "       'Productive cough', 'Facial paresis',\n",
              "       'Type IV hypersensitivity reaction', 'Conjunctivitis',\n",
              "       'Livedo reticularis', 'Eye swelling', 'Dysphonia', 'Eczema',\n",
              "       'Cold sweat', 'Jaw disorder', 'Malaise', 'Cheilitis',\n",
              "       'Electrocardiogram normal', 'Atrial fibrillation',\n",
              "       'Gingival swelling', 'Palpitations', 'Apathy', 'Electrocardiogram',\n",
              "       'Oral mucosal blistering', 'Induration',\n",
              "       'Body temperature decreased', 'Herpes simplex reactivation',\n",
              "       'Injection site rash', 'Blood potassium decreased', 'Epistaxis',\n",
              "       'Enlarged uvula', 'Feeling jittery', 'Blood immunoglobulin E',\n",
              "       'Muscle twitching', 'Lymph node palpable',\n",
              "       'Vaccination site bruising', 'Facial paralysis', 'Eye irritation',\n",
              "       'Maternal exposure during breast feeding', 'Balance disorder',\n",
              "       'Blood glucose increased', 'Acute disseminated encephalomyelitis',\n",
              "       'Angiogram cerebral', 'Dehydration', 'Angiogram pulmonary normal',\n",
              "       'Candida infection', 'Swelling face',\n",
              "       'Injection site hypoaesthesia', 'Visual impairment',\n",
              "       'Product administered at inappropriate site', 'Glassy eyes',\n",
              "       'Influenza like illness', 'Exposure via breast milk',\n",
              "       'Nasal congestion', 'Injection site discomfort', 'Ear swelling',\n",
              "       'Disturbance in attention', 'Illness',\n",
              "       'Dermatitis exfoliative generalised', 'Dyspnoea exertional',\n",
              "       'Eye discharge', 'Muscular weakness',\n",
              "       'Acute myocardial infarction', 'Crying', 'Lip pruritus',\n",
              "       'Blood glucose normal', 'Genital blister', 'Dizziness postural',\n",
              "       'Death', 'SARS-CoV-2 test positive', 'Hot flush', 'Bradycardia',\n",
              "       'Tongue pruritus', 'Ear discomfort', 'Cardiac arrest',\n",
              "       'Joint range of motion decreased', 'Autopsy', 'Arthritis',\n",
              "       'Musculoskeletal stiffness', 'Hypotonia', 'Papule', 'Retching',\n",
              "       'Cardiac disorder', 'Depressed level of consciousness',\n",
              "       'Abdominal tenderness', 'Blood electrolytes normal',\n",
              "       'Blood pressure fluctuation', 'Heart rate decreased', 'Autoscopy',\n",
              "       'Product storage error', 'Oral discomfort',\n",
              "       'Computerised tomogram abnormal', 'Nervousness', 'Herpes zoster',\n",
              "       'Pulmonary congestion', 'Aphasia',\n",
              "       'Activated partial thromboplastin time shortened', 'Anger',\n",
              "       'Oral mucosal eruption', 'Pain in jaw', 'Amnesia',\n",
              "       'Blood gases abnormal',\n",
              "       'Incorrect route of product administration',\n",
              "       'Blood pressure abnormal', 'Extraocular muscle paresis',\n",
              "       'Dermatitis allergic', 'Cardio-respiratory arrest',\n",
              "       'Abdominal pain lower', 'Fine motor skill dysfunction',\n",
              "       'Bradyphrenia', 'Impaired work ability', 'Autoantibody positive',\n",
              "       'Body temperature abnormal', 'Antinuclear antibody negative',\n",
              "       'Blood lactic acid decreased', 'Gingival pain', 'Ear pain',\n",
              "       'Differential white blood cell count', 'Eye haemorrhage',\n",
              "       'Inappropriate schedule of product administration', 'Mass',\n",
              "       'Product administered to patient of inappropriate age', 'Bursitis',\n",
              "       'Echocardiogram normal', 'Throat irritation', 'Vision blurred',\n",
              "       'Bacterial test', 'Vaccination site irritation',\n",
              "       'Peripheral swelling', 'Vomiting', 'Iridocyclitis', 'Clumsiness',\n",
              "       'Anaphylactic shock', 'Syringe issue', 'Pulse absent',\n",
              "       'Antinuclear antibody positive', 'Asymptomatic COVID-19',\n",
              "       'Tongue dry', 'Alanine aminotransferase normal',\n",
              "       'Eye movement disorder', 'Immediate post-injection reaction',\n",
              "       'Blood thyroid stimulating hormone', 'Joint swelling',\n",
              "       'Eyelid function disorder', 'Hypersensitivity', 'Full blood count',\n",
              "       'Pharyngeal hypoaesthesia', 'Drug hypersensitivity',\n",
              "       'Limb discomfort', 'Oropharyngeal discomfort', 'Drainage',\n",
              "       'Injection site mass', 'Incorrect dose administered',\n",
              "       'Computerised tomogram head', 'Bone pain', 'Nodule',\n",
              "       'Adverse event', 'Breast pain', 'Throat tightness',\n",
              "       'Alanine aminotransferase', 'Vertigo', 'Abnormal behaviour',\n",
              "       'Syncope', 'Dysarthria', 'Acute kidney injury', 'Areflexia',\n",
              "       'Alanine aminotransferase increased', 'Aspiration bursa',\n",
              "       'Agitation', 'Neck pain', 'Extremity contracture',\n",
              "       'Anal incontinence', 'Catheterisation cardiac',\n",
              "       'Adult failure to thrive', 'Pupil fixed', 'Deep vein thrombosis',\n",
              "       'Oedema', 'Anion gap', 'Blood magnesium decreased',\n",
              "       'Blood immunoglobulin G', 'Echocardiogram', 'Cardioversion',\n",
              "       'Absence of immediate treatment response', 'Swollen tongue',\n",
              "       'Blood lactic acid increased', 'Angina pectoris',\n",
              "       'Laboratory test', \"Allen's test\", 'Confusional state',\n",
              "       'Adjusted calcium increased',\n",
              "       'Activated partial thromboplastin time', 'Breast feeding',\n",
              "       'Asthma', 'Fear', 'Breath sounds abnormal', 'Nasopharyngitis',\n",
              "       'Bacteraemia', 'Blood creatine phosphokinase normal',\n",
              "       'Angioplasty', 'Audiogram abnormal', 'Foetal monitoring',\n",
              "       'Computerised tomogram head normal', 'Deafness neurosensory',\n",
              "       'Angiogram pulmonary abnormal',\n",
              "       'Blood urea nitrogen/creatinine ratio increased',\n",
              "       'Impaired driving ability', 'Angiogram cerebral normal',\n",
              "       'COVID-19 pneumonia', 'Brain death', 'Haemoglobin normal',\n",
              "       'Culture stool', 'Electrocardiogram PR prolongation',\n",
              "       'Sudden death', 'Facial pain', 'Unresponsive to stimuli',\n",
              "       'Appendicectomy', 'Herpes ophthalmic', 'Adenovirus test',\n",
              "       'Acute myeloid leukaemia', 'Haematuria', 'Delirium', 'Cyanosis',\n",
              "       'Cardiac failure congestive', 'Abscess neck',\n",
              "       'Activated partial thromboplastin time normal',\n",
              "       'Albumin urine present', 'Blood electrolytes', 'Anaemia',\n",
              "       'Blood bicarbonate decreased', 'Acoustic stimulation tests',\n",
              "       'Angiogram cerebral abnormal', 'Aphonia', 'Hypogeusia',\n",
              "       'Trigeminal neuralgia', 'Bundle branch block right',\n",
              "       'C-reactive protein increased', 'Cerebral haemorrhage', 'Deafness',\n",
              "       'Cardiac pacemaker evaluation', 'Acute respiratory failure',\n",
              "       'Anticoagulant therapy', 'Injection site discolouration',\n",
              "       'Dry throat', 'Cognitive disorder', 'Ataxia',\n",
              "       'Blood glucose decreased', 'Cardiogenic shock',\n",
              "       'Anti-NMDA antibody negative',\n",
              "       'Computerised tomogram head abnormal',\n",
              "       'Catheterisation cardiac abnormal', 'Adjusted calcium',\n",
              "       'Renal tubular necrosis', 'Cardiac telemetry abnormal',\n",
              "       'Haemoglobin decreased', 'Anisocytosis',\n",
              "       'Activated partial thromboplastin time prolonged', 'Appendicitis',\n",
              "       'Apnoeic attack', 'Alveolar lung disease',\n",
              "       'Intra-uterine contraceptive device removal',\n",
              "       'Oxygen saturation decreased', 'Platelet count decreased',\n",
              "       'Culture negative', 'Glomerular filtration rate',\n",
              "       'Blood creatine phosphokinase abnormal',\n",
              "       'Arteriogram coronary normal', 'Head titubation',\n",
              "       'Carbon dioxide decreased', 'Guillain-Barre syndrome',\n",
              "       'Hypoglycaemia', 'Aggression', 'Foetal heart rate abnormal',\n",
              "       'Cardiovascular evaluation', 'Tremor', 'Bradycardia foetal',\n",
              "       'Dyskinesia', 'Blood smear test abnormal', 'Basal ganglia stroke',\n",
              "       'Catheter placement', 'Aneurysm ruptured', 'Blood culture',\n",
              "       'Abdominal lymphadenopathy', 'Cholecystectomy',\n",
              "       'Laboratory test normal', 'Aptyalism', 'Blood test abnormal',\n",
              "       'Butterfly rash', 'Seizure like phenomena',\n",
              "       'Blood culture negative', 'Acute motor-sensory axonal neuropathy',\n",
              "       'Bilevel positive airway pressure', 'Cerebral artery embolism',\n",
              "       'Computerised tomogram thorax abnormal', 'Acute pulmonary oedema',\n",
              "       'Bullous haemorrhagic dermatosis', 'Cardio-respiratory distress',\n",
              "       'Sudden cardiac death', 'Autonomic nervous system imbalance',\n",
              "       'Carbon dioxide increased', 'Facial asymmetry', 'Rhabdomyolysis',\n",
              "       'Neurological symptom', 'Colonoscopy abnormal',\n",
              "       'Myocardial infarction', 'Cerebellar stroke', 'Amylase increased',\n",
              "       'Skin warm', 'Drooling', 'Platelet transfusion',\n",
              "       'Bladder catheterisation', 'Anaemia macrocytic',\n",
              "       'Adenovirus infection', 'Febrile convulsion', 'Blood lactic acid',\n",
              "       'Brain natriuretic peptide normal', 'Hypotension',\n",
              "       'Blood urea increased', 'Mononucleosis heterophile test negative',\n",
              "       'Blood urine present', 'Blood sodium decreased',\n",
              "       'Allergy to surgical sutures', 'Electromyogram abnormal',\n",
              "       'Aortic stenosis', 'Disorganised speech', 'Blood potassium normal',\n",
              "       'Intensive care', 'Pericarditis', 'Burns second degree',\n",
              "       'Deafness unilateral', 'Diplopia', 'Ammonia increased',\n",
              "       'Endotracheal intubation', 'Discoloured vomit', 'Apnoea',\n",
              "       'Airway secretion clearance therapy',\n",
              "       'Blood creatine phosphokinase MB increased', 'Blood pH decreased',\n",
              "       'Blood count abnormal', 'Acoustic stimulation tests abnormal',\n",
              "       'Injection site movement impairment', 'Aspiration',\n",
              "       'Blood creatine phosphokinase', 'Blindness', 'Irritability',\n",
              "       'Abscess limb', 'Angiogram abnormal', 'Respiratory distress',\n",
              "       'Anti-muscle specific kinase antibody', 'Amniorrhoea',\n",
              "       'Atelectasis', 'Eructation', 'Eye disorder', 'Bronchospasm',\n",
              "       'Blood calcium decreased', 'Dyspepsia', 'Alopecia',\n",
              "       'COVID-19 immunisation', 'Gait disturbance', 'Alcohol use',\n",
              "       'Culture urine negative', 'Discharge',\n",
              "       'Computerised tomogram abdomen', 'Atrioventricular block',\n",
              "       'Catheterisation cardiac normal', 'Blood glucose',\n",
              "       'Cardiac stress test abnormal', 'Altered visual depth perception',\n",
              "       'Dermatitis', 'Dry skin', 'Hyperaesthesia', 'Vertigo positional',\n",
              "       'Blood bicarbonate increased', 'Loss of consciousness',\n",
              "       'Allodynia', 'Adverse reaction', 'Chronic kidney disease',\n",
              "       'Abdomen crushing', 'Hypoacusis', 'Acute coronary syndrome',\n",
              "       'Cardiac failure', 'Apgar score normal', 'Presyncope',\n",
              "       'Hallucination', 'Foaming at mouth', 'Cardiac tamponade',\n",
              "       'Blood creatine phosphokinase increased',\n",
              "       'Full blood count normal', 'Hemiparesis',\n",
              "       'Immune thrombocytopenia', 'Haemolytic anaemia',\n",
              "       'Cardiac function test normal', 'Coronary artery occlusion',\n",
              "       'Acute left ventricular failure', 'Chemotherapy', 'Aneurysm',\n",
              "       'Blood culture positive', 'Acidosis', 'Encephalopathy',\n",
              "       'Cerebellar infarction', 'Diverticulitis intestinal perforated',\n",
              "       'Computerised tomogram pelvis', 'Cerebral microhaemorrhage',\n",
              "       'Circulatory collapse', 'Transient ischaemic attack',\n",
              "       'Abnormal sensation in eye', 'Mastitis', 'Cerebral infarction',\n",
              "       'Culture', 'Communication disorder', 'Blood calcium normal',\n",
              "       'Azotaemia', 'Blood albumin decreased', 'Biopsy bone marrow',\n",
              "       'Adverse event following immunisation', 'Pulmonary embolism',\n",
              "       'Aortic arteriosclerosis', 'Agonal rhythm', 'Angiogram retina',\n",
              "       'Injection site joint swelling', 'Heart rate abnormal',\n",
              "       'Bundle branch block left', 'Blister rupture',\n",
              "       'Intracranial aneurysm', 'Blood copper normal',\n",
              "       'Cardiac assistance device user', 'Acute hepatic failure',\n",
              "       'Acute respiratory distress syndrome', 'CSF pressure increased',\n",
              "       'Herpes zoster oticus', 'Blood bilirubin increased',\n",
              "       'Anticonvulsant drug level decreased', 'Aortic aneurysm rupture',\n",
              "       'Central venous catheterisation', 'Coagulation test',\n",
              "       'Abdominal X-ray', 'Ascites', 'Ocular hyperaemia', 'Biopsy skin',\n",
              "       'Auditory disorder', 'Blood chloride increased', 'Lethargy',\n",
              "       'Blood ketone body', 'Brain operation', 'Dysstasia',\n",
              "       'Computerised tomogram abdomen abnormal', 'Antinuclear antibody',\n",
              "       'Rash macular', 'Arteriosclerosis', 'Cardiomegaly', 'Audiogram',\n",
              "       'Blood pressure measurement', 'Electroencephalogram normal',\n",
              "       'SARS-CoV-2 test negative', 'Coagulopathy', 'Atrial septal defect',\n",
              "       'Hepatitis', 'Adrenocortical insufficiency acute',\n",
              "       'Arteriogram carotid abnormal', 'Aspiration pleural cavity',\n",
              "       'Intermittent claudication', 'Abnormal faeces',\n",
              "       'Abnormal loss of weight', 'General physical health deterioration',\n",
              "       'Retinal haemorrhage', 'Barium swallow', 'Central cord syndrome',\n",
              "       'Autoimmune demyelinating disease', 'Arterial disorder',\n",
              "       'Biopsy skin abnormal', 'Abdominal wall oedema',\n",
              "       'Bladder cancer stage IV', 'Abdominal injury', 'Aortic aneurysm',\n",
              "       'Blood sodium normal'], dtype=object)"
            ]
          },
          "metadata": {
            "tags": []
          },
          "execution_count": 52
        }
      ]
    }
  ]
}